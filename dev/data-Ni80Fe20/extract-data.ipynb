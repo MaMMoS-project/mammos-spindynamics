{
 "cells": [
  {
   "cell_type": "code",
   "execution_count": 1,
   "id": "70160432-2009-4bac-ba4e-1b81e86adfc9",
   "metadata": {},
   "outputs": [],
   "source": [
    "import pandas as pd\n",
    "import matplotlib.pyplot as plt"
   ]
  },
  {
   "cell_type": "code",
   "execution_count": 2,
   "id": "8ab2fa5e-0ba4-4ad2-aa63-c40023c94f32",
   "metadata": {},
   "outputs": [
    {
     "data": {
      "text/html": [
       "<div>\n",
       "<style scoped>\n",
       "    .dataframe tbody tr th:only-of-type {\n",
       "        vertical-align: middle;\n",
       "    }\n",
       "\n",
       "    .dataframe tbody tr th {\n",
       "        vertical-align: top;\n",
       "    }\n",
       "\n",
       "    .dataframe thead th {\n",
       "        text-align: right;\n",
       "    }\n",
       "</style>\n",
       "<table border=\"1\" class=\"dataframe\">\n",
       "  <thead>\n",
       "    <tr style=\"text-align: right;\">\n",
       "      <th></th>\n",
       "      <th>0</th>\n",
       "      <th>1</th>\n",
       "      <th>2</th>\n",
       "      <th>3</th>\n",
       "      <th>4</th>\n",
       "      <th>5</th>\n",
       "      <th>6</th>\n",
       "      <th>7</th>\n",
       "      <th>8</th>\n",
       "      <th>9</th>\n",
       "      <th>...</th>\n",
       "      <th>17</th>\n",
       "      <th>18</th>\n",
       "      <th>19</th>\n",
       "      <th>20</th>\n",
       "      <th>21</th>\n",
       "      <th>22</th>\n",
       "      <th>23</th>\n",
       "      <th>24</th>\n",
       "      <th>25</th>\n",
       "      <th>26</th>\n",
       "    </tr>\n",
       "  </thead>\n",
       "  <tbody>\n",
       "    <tr>\n",
       "      <th>0</th>\n",
       "      <td>2.000000e-11</td>\n",
       "      <td>0</td>\n",
       "      <td>0.000000</td>\n",
       "      <td>0.000000</td>\n",
       "      <td>1.000000</td>\n",
       "      <td>1.000000</td>\n",
       "      <td>0.000000</td>\n",
       "      <td>0.000000</td>\n",
       "      <td>1.000000</td>\n",
       "      <td>1.000000</td>\n",
       "      <td>...</td>\n",
       "      <td>0.000000</td>\n",
       "      <td>0.000000e+00</td>\n",
       "      <td>0.000000e+00</td>\n",
       "      <td>0.000000</td>\n",
       "      <td>0.000000</td>\n",
       "      <td>0.000000e+00</td>\n",
       "      <td>0.000000e+00</td>\n",
       "      <td>0.000000</td>\n",
       "      <td>-0.000000</td>\n",
       "      <td>0.000000</td>\n",
       "    </tr>\n",
       "    <tr>\n",
       "      <th>1</th>\n",
       "      <td>4.000000e-11</td>\n",
       "      <td>10</td>\n",
       "      <td>-0.000449</td>\n",
       "      <td>-0.001741</td>\n",
       "      <td>0.999998</td>\n",
       "      <td>0.999759</td>\n",
       "      <td>-0.000381</td>\n",
       "      <td>-0.001705</td>\n",
       "      <td>0.999998</td>\n",
       "      <td>0.999756</td>\n",
       "      <td>...</td>\n",
       "      <td>0.005314</td>\n",
       "      <td>3.993890e-08</td>\n",
       "      <td>1.441520e-08</td>\n",
       "      <td>0.002663</td>\n",
       "      <td>0.006300</td>\n",
       "      <td>5.210560e-08</td>\n",
       "      <td>2.439170e-08</td>\n",
       "      <td>0.005423</td>\n",
       "      <td>0.004677</td>\n",
       "      <td>0.002243</td>\n",
       "    </tr>\n",
       "    <tr>\n",
       "      <th>2</th>\n",
       "      <td>6.000000e-11</td>\n",
       "      <td>20</td>\n",
       "      <td>0.007115</td>\n",
       "      <td>0.000048</td>\n",
       "      <td>0.999975</td>\n",
       "      <td>0.999248</td>\n",
       "      <td>0.007548</td>\n",
       "      <td>0.000231</td>\n",
       "      <td>0.999971</td>\n",
       "      <td>0.999245</td>\n",
       "      <td>...</td>\n",
       "      <td>0.004009</td>\n",
       "      <td>1.794690e-07</td>\n",
       "      <td>7.463850e-08</td>\n",
       "      <td>0.012092</td>\n",
       "      <td>0.004518</td>\n",
       "      <td>2.476640e-07</td>\n",
       "      <td>1.322360e-07</td>\n",
       "      <td>0.013040</td>\n",
       "      <td>0.010932</td>\n",
       "      <td>0.005546</td>\n",
       "    </tr>\n",
       "    <tr>\n",
       "      <th>3</th>\n",
       "      <td>8.000000e-11</td>\n",
       "      <td>30</td>\n",
       "      <td>0.018003</td>\n",
       "      <td>0.014082</td>\n",
       "      <td>0.999739</td>\n",
       "      <td>0.998554</td>\n",
       "      <td>0.017370</td>\n",
       "      <td>0.014469</td>\n",
       "      <td>0.999744</td>\n",
       "      <td>0.998548</td>\n",
       "      <td>...</td>\n",
       "      <td>0.004506</td>\n",
       "      <td>3.203870e-06</td>\n",
       "      <td>1.603230e-07</td>\n",
       "      <td>0.008005</td>\n",
       "      <td>0.005450</td>\n",
       "      <td>3.718350e-06</td>\n",
       "      <td>2.818210e-07</td>\n",
       "      <td>0.021603</td>\n",
       "      <td>0.018624</td>\n",
       "      <td>0.008663</td>\n",
       "    </tr>\n",
       "    <tr>\n",
       "      <th>4</th>\n",
       "      <td>1.000000e-10</td>\n",
       "      <td>40</td>\n",
       "      <td>0.030487</td>\n",
       "      <td>0.017969</td>\n",
       "      <td>0.999374</td>\n",
       "      <td>0.997645</td>\n",
       "      <td>0.030556</td>\n",
       "      <td>0.018661</td>\n",
       "      <td>0.999359</td>\n",
       "      <td>0.997658</td>\n",
       "      <td>...</td>\n",
       "      <td>0.009775</td>\n",
       "      <td>9.720060e-06</td>\n",
       "      <td>3.235340e-07</td>\n",
       "      <td>0.011421</td>\n",
       "      <td>0.011051</td>\n",
       "      <td>1.142050e-05</td>\n",
       "      <td>5.995970e-07</td>\n",
       "      <td>0.031482</td>\n",
       "      <td>0.026493</td>\n",
       "      <td>0.013582</td>\n",
       "    </tr>\n",
       "  </tbody>\n",
       "</table>\n",
       "<p>5 rows × 27 columns</p>\n",
       "</div>"
      ],
      "text/plain": [
       "             0   1         2         3         4         5         6   \\\n",
       "0  2.000000e-11   0  0.000000  0.000000  1.000000  1.000000  0.000000   \n",
       "1  4.000000e-11  10 -0.000449 -0.001741  0.999998  0.999759 -0.000381   \n",
       "2  6.000000e-11  20  0.007115  0.000048  0.999975  0.999248  0.007548   \n",
       "3  8.000000e-11  30  0.018003  0.014082  0.999739  0.998554  0.017370   \n",
       "4  1.000000e-10  40  0.030487  0.017969  0.999374  0.997645  0.030556   \n",
       "\n",
       "         7         8         9   ...        17            18            19  \\\n",
       "0  0.000000  1.000000  1.000000  ...  0.000000  0.000000e+00  0.000000e+00   \n",
       "1 -0.001705  0.999998  0.999756  ...  0.005314  3.993890e-08  1.441520e-08   \n",
       "2  0.000231  0.999971  0.999245  ...  0.004009  1.794690e-07  7.463850e-08   \n",
       "3  0.014469  0.999744  0.998548  ...  0.004506  3.203870e-06  1.603230e-07   \n",
       "4  0.018661  0.999359  0.997658  ...  0.009775  9.720060e-06  3.235340e-07   \n",
       "\n",
       "         20        21            22            23        24        25  \\\n",
       "0  0.000000  0.000000  0.000000e+00  0.000000e+00  0.000000 -0.000000   \n",
       "1  0.002663  0.006300  5.210560e-08  2.439170e-08  0.005423  0.004677   \n",
       "2  0.012092  0.004518  2.476640e-07  1.322360e-07  0.013040  0.010932   \n",
       "3  0.008005  0.005450  3.718350e-06  2.818210e-07  0.021603  0.018624   \n",
       "4  0.011421  0.011051  1.142050e-05  5.995970e-07  0.031482  0.026493   \n",
       "\n",
       "         26  \n",
       "0  0.000000  \n",
       "1  0.002243  \n",
       "2  0.005546  \n",
       "3  0.008663  \n",
       "4  0.013582  \n",
       "\n",
       "[5 rows x 27 columns]"
      ]
     },
     "execution_count": 2,
     "metadata": {},
     "output_type": "execute_result"
    }
   ],
   "source": [
    "data = pd.read_csv(\"output.txt\", comment=\"#\", sep=r\"\\t\", header=None, engine='python')\n",
    "data.head()"
   ]
  },
  {
   "cell_type": "markdown",
   "id": "7e8e1fc2-2cc5-4a51-9e9a-2a5d6e1b3119",
   "metadata": {},
   "source": [
    "Inferred from the gnuplot script:\n",
    "\n",
    "- column 1 is temperature\n",
    "- column 5 is Ms for Fe\n",
    "- column 9 is Ms for Ni"
   ]
  },
  {
   "cell_type": "code",
   "execution_count": 3,
   "id": "a93746d9-2a19-4890-b410-bf215bcacb27",
   "metadata": {},
   "outputs": [
    {
     "data": {
      "text/plain": [
       "<Axes: xlabel='1'>"
      ]
     },
     "execution_count": 3,
     "metadata": {},
     "output_type": "execute_result"
    },
    {
     "data": {
      "image/png": "[encoded data removed]",
      "text/plain": [
       "<Figure size 640x480 with 1 Axes>"
      ]
     },
     "metadata": {},
     "output_type": "display_data"
    }
   ],
   "source": [
    "data.plot(x=1, y=[5, 9])"
   ]
  },
  {
   "cell_type": "code",
   "execution_count": 4,
   "id": "af94baf1-3473-4399-a480-626a38a75b04",
   "metadata": {},
   "outputs": [
    {
     "data": {
      "text/plain": [
       "[<matplotlib.lines.Line2D at 0x7f5e92b10ed0>]"
      ]
     },
     "execution_count": 4,
     "metadata": {},
     "output_type": "execute_result"
    },
    {
     "data": {
      "image/png": "[encoded data removed]",
      "text/plain": [
       "<Figure size 640x480 with 1 Axes>"
      ]
     },
     "metadata": {},
     "output_type": "display_data"
    }
   ],
   "source": [
    "plt.plot(data[1], data[5] - data[9])"
   ]
  },
  {
   "cell_type": "markdown",
   "id": "15d14b51-a2b8-48a9-9c7c-4769635cd035",
   "metadata": {},
   "source": [
    "Use temperature-dependence for Fe"
   ]
  },
  {
   "cell_type": "code",
   "execution_count": 5,
   "id": "0bb8b374-0e7a-4f8f-954a-00691ac5b8d5",
   "metadata": {},
   "outputs": [],
   "source": [
    "import mammos_units as u"
   ]
  },
  {
   "cell_type": "markdown",
   "id": "39fc61e4-88ba-47a9-81d6-46ec0377edb9",
   "metadata": {},
   "source": [
    "Magnetic moments from the paper https://arxiv.org/pdf/1908.08885"
   ]
  },
  {
   "cell_type": "code",
   "execution_count": 6,
   "id": "884f1916-968e-40db-ad07-3c30092aa750",
   "metadata": {},
   "outputs": [
    {
     "data": {
      "text/latex": [
       "$892184.69 \\; \\mathrm{\\frac{A}{m}}$"
      ],
      "text/plain": [
       "<Quantity 892184.69121101 A / m>"
      ]
     },
     "execution_count": 6,
     "metadata": {},
     "output_type": "execute_result"
    }
   ],
   "source": [
    "fu_per_fcc_unit_cell = 4\n",
    "m_fe = 2.9 * u.mu_B\n",
    "fraction_fe = 0.2\n",
    "m_ni = 0.62 * u.mu_B\n",
    "fraction_ni = 0.8\n",
    "magnetic_moment = (m_fe * fraction_fe + m_ni * fraction_ni) / u.f_u\n",
    "\n",
    "vol_per_fu = (3.55 * u.Angstrom) ** 3 / fu_per_fcc_unit_cell\n",
    "\n",
    "Ms0 = magnetic_moment.to(u.T, equivalencies=u.moment_induction(vol_per_fu)).to(\"A/m\", equivalencies=u.magnetic_flux_field())\n",
    "Ms0"
   ]
  },
  {
   "cell_type": "code",
   "execution_count": 7,
   "id": "f8ba2f67-102c-436b-a5a6-a545b57906a8",
   "metadata": {},
   "outputs": [],
   "source": [
    "sel = data[[1, 5]]"
   ]
  },
  {
   "cell_type": "code",
   "execution_count": 8,
   "id": "a3e8b85b-6d48-427d-9926-75600d735326",
   "metadata": {},
   "outputs": [],
   "source": [
    "sel.loc[:, 5] *= Ms0"
   ]
  },
  {
   "cell_type": "code",
   "execution_count": 9,
   "id": "de29b3d3-6448-4ba6-885c-edfffc5ecf8a",
   "metadata": {},
   "outputs": [],
   "source": [
    "# sel.to_csv(\"M.csv\", header=[\"T[K]\", \"M[A/m]\"], index=False)"
   ]
  },
  {
   "cell_type": "code",
   "execution_count": null,
   "id": "0c770bb6-9ca5-4940-b277-9a5bc32d06a7",
   "metadata": {},
   "outputs": [],
   "source": []
  }
 ],
 "metadata": {
  "kernelspec": {
   "display_name": "Python 3 (ipykernel)",
   "language": "python",
   "name": "python3"
  },
  "language_info": {
   "codemirror_mode": {
    "name": "ipython",
    "version": 3
   },
   "file_extension": ".py",
   "mimetype": "text/x-python",
   "name": "python",
   "nbconvert_exporter": "python",
   "pygments_lexer": "ipython3",
   "version": "3.11.0"
  }
 },
 "nbformat": 4,
 "nbformat_minor": 5
}
