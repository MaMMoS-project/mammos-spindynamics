{
 "cells": [
  {
   "cell_type": "markdown",
   "metadata": {},
   "source": [
    "# UppASD calculation database lookup\n",
    "This package contains a database of previously-executed runs with UppASD.\n",
    "Given the input files (`jfile`, `momfile`, `posfile`), the database is searched for matches and a magnetization interpolator is given as output."
   ]
  },
  {
   "cell_type": "code",
   "execution_count": 1,
   "metadata": {},
   "outputs": [],
   "source": [
    "from mammos_spindynamics.db import get_M"
   ]
  },
  {
   "cell_type": "code",
   "execution_count": 2,
   "metadata": {},
   "outputs": [
    {
     "data": {
      "text/html": [
       "<pre style=\"white-space:pre;overflow-x:auto;line-height:normal;font-family:Menlo,'DejaVu Sans Mono',consolas,'Courier New',monospace\">Found material in database.\n",
       "</pre>\n"
      ],
      "text/plain": [
       "Found material in database.\n"
      ]
     },
     "metadata": {},
     "output_type": "display_data"
    },
    {
     "data": {
      "text/html": [
       "<pre style=\"white-space:pre;overflow-x:auto;line-height:normal;font-family:Menlo,'DejaVu Sans Mono',consolas,'Courier New',monospace\">\n",
       "Chemical Formula: Co2Fe2H4\n",
       "Space group name: P6_3/mmc\n",
       "Space group number: <span style=\"color: #008080; text-decoration-color: #008080; font-weight: bold\">194</span>\n",
       "Cell length a: <span style=\"color: #008080; text-decoration-color: #008080; font-weight: bold\">2.645345</span>\n",
       "Cell length b: <span style=\"color: #008080; text-decoration-color: #008080; font-weight: bold\">2.645314</span>\n",
       "Cell length c: <span style=\"color: #008080; text-decoration-color: #008080; font-weight: bold\">8.539476</span>\n",
       "Cell angle alpha: <span style=\"color: #008080; text-decoration-color: #008080; font-weight: bold\">90.0</span>\n",
       "Cell angle beta: <span style=\"color: #008080; text-decoration-color: #008080; font-weight: bold\">90.0</span>\n",
       "Cell angle gamma: <span style=\"color: #008080; text-decoration-color: #008080; font-weight: bold\">120.0</span>\n",
       "Cell volume: <span style=\"color: #008080; text-decoration-color: #008080; font-weight: bold\">51.751119</span>\n",
       "ICSD_label: nan\n",
       "OQMD_label: nan\n",
       "\n",
       "</pre>\n"
      ],
      "text/plain": [
       "\n",
       "Chemical Formula: Co2Fe2H4\n",
       "Space group name: P6_3/mmc\n",
       "Space group number: \u001b[1;36m194\u001b[0m\n",
       "Cell length a: \u001b[1;36m2.645345\u001b[0m\n",
       "Cell length b: \u001b[1;36m2.645314\u001b[0m\n",
       "Cell length c: \u001b[1;36m8.539476\u001b[0m\n",
       "Cell angle alpha: \u001b[1;36m90.0\u001b[0m\n",
       "Cell angle beta: \u001b[1;36m90.0\u001b[0m\n",
       "Cell angle gamma: \u001b[1;36m120.0\u001b[0m\n",
       "Cell volume: \u001b[1;36m51.751119\u001b[0m\n",
       "ICSD_label: nan\n",
       "OQMD_label: nan\n",
       "\n"
      ]
     },
     "metadata": {},
     "output_type": "display_data"
    }
   ],
   "source": [
    "M = get_M(\n",
    "    jfile=\"known_material/jfile\",\n",
    "    momfile=\"known_material/momfile\",\n",
    "    posfile=\"known_material/posfile\",\n",
    ")"
   ]
  },
  {
   "cell_type": "markdown",
   "metadata": {},
   "source": [
    "## What is `M`?"
   ]
  },
  {
   "cell_type": "code",
   "execution_count": 3,
   "metadata": {},
   "outputs": [
    {
     "data": {
      "text/plain": [
       "scipy.interpolate._interpolate.interp1d"
      ]
     },
     "execution_count": 3,
     "metadata": {},
     "output_type": "execute_result"
    }
   ],
   "source": [
    "type(M)"
   ]
  },
  {
   "cell_type": "markdown",
   "metadata": {},
   "source": [
    "This is the table we have loaded:"
   ]
  },
  {
   "cell_type": "code",
   "execution_count": 4,
   "metadata": {},
   "outputs": [
    {
     "data": {
      "text/html": [
       "<div>\n",
       "<style scoped>\n",
       "    .dataframe tbody tr th:only-of-type {\n",
       "        vertical-align: middle;\n",
       "    }\n",
       "\n",
       "    .dataframe tbody tr th {\n",
       "        vertical-align: top;\n",
       "    }\n",
       "\n",
       "    .dataframe thead th {\n",
       "        text-align: right;\n",
       "    }\n",
       "</style>\n",
       "<table border=\"1\" class=\"dataframe\">\n",
       "  <thead>\n",
       "    <tr style=\"text-align: right;\">\n",
       "      <th></th>\n",
       "      <th>T[K]</th>\n",
       "      <th>M[muB]</th>\n",
       "      <th>M^2</th>\n",
       "      <th>M^4</th>\n",
       "      <th>U_Binder</th>\n",
       "      <th>chi</th>\n",
       "      <th>C_v(tot)</th>\n",
       "      <th>E</th>\n",
       "      <th>E_exc</th>\n",
       "      <th>E_lsf</th>\n",
       "    </tr>\n",
       "  </thead>\n",
       "  <tbody>\n",
       "    <tr>\n",
       "      <th>0</th>\n",
       "      <td>20</td>\n",
       "      <td>1.619330</td>\n",
       "      <td>2.622230</td>\n",
       "      <td>6.876093e+00</td>\n",
       "      <td>0.666667</td>\n",
       "      <td>0.000091</td>\n",
       "      <td>1.071467</td>\n",
       "      <td>-12.196934</td>\n",
       "      <td>-12.196934</td>\n",
       "      <td>0.0</td>\n",
       "    </tr>\n",
       "    <tr>\n",
       "      <th>1</th>\n",
       "      <td>40</td>\n",
       "      <td>1.608173</td>\n",
       "      <td>2.586221</td>\n",
       "      <td>6.688539e+00</td>\n",
       "      <td>0.666667</td>\n",
       "      <td>0.000105</td>\n",
       "      <td>1.031014</td>\n",
       "      <td>-12.069239</td>\n",
       "      <td>-12.069239</td>\n",
       "      <td>0.0</td>\n",
       "    </tr>\n",
       "    <tr>\n",
       "      <th>2</th>\n",
       "      <td>60</td>\n",
       "      <td>1.596410</td>\n",
       "      <td>2.548525</td>\n",
       "      <td>6.494983e+00</td>\n",
       "      <td>0.666666</td>\n",
       "      <td>0.000498</td>\n",
       "      <td>1.034504</td>\n",
       "      <td>-11.940920</td>\n",
       "      <td>-11.940920</td>\n",
       "      <td>0.0</td>\n",
       "    </tr>\n",
       "    <tr>\n",
       "      <th>3</th>\n",
       "      <td>80</td>\n",
       "      <td>1.584919</td>\n",
       "      <td>2.511968</td>\n",
       "      <td>6.309993e+00</td>\n",
       "      <td>0.666666</td>\n",
       "      <td>0.000634</td>\n",
       "      <td>0.961010</td>\n",
       "      <td>-11.811858</td>\n",
       "      <td>-11.811858</td>\n",
       "      <td>0.0</td>\n",
       "    </tr>\n",
       "    <tr>\n",
       "      <th>4</th>\n",
       "      <td>100</td>\n",
       "      <td>1.573813</td>\n",
       "      <td>2.476886</td>\n",
       "      <td>6.134970e+00</td>\n",
       "      <td>0.666667</td>\n",
       "      <td>0.000179</td>\n",
       "      <td>1.092742</td>\n",
       "      <td>-11.681937</td>\n",
       "      <td>-11.681937</td>\n",
       "      <td>0.0</td>\n",
       "    </tr>\n",
       "    <tr>\n",
       "      <th>...</th>\n",
       "      <td>...</td>\n",
       "      <td>...</td>\n",
       "      <td>...</td>\n",
       "      <td>...</td>\n",
       "      <td>...</td>\n",
       "      <td>...</td>\n",
       "      <td>...</td>\n",
       "      <td>...</td>\n",
       "      <td>...</td>\n",
       "      <td>...</td>\n",
       "    </tr>\n",
       "    <tr>\n",
       "      <th>75</th>\n",
       "      <td>1520</td>\n",
       "      <td>0.009946</td>\n",
       "      <td>0.000117</td>\n",
       "      <td>2.367944e-08</td>\n",
       "      <td>0.423640</td>\n",
       "      <td>0.000705</td>\n",
       "      <td>0.225578</td>\n",
       "      <td>-1.548887</td>\n",
       "      <td>-1.548887</td>\n",
       "      <td>0.0</td>\n",
       "    </tr>\n",
       "    <tr>\n",
       "      <th>76</th>\n",
       "      <td>1540</td>\n",
       "      <td>0.009311</td>\n",
       "      <td>0.000102</td>\n",
       "      <td>1.771700e-08</td>\n",
       "      <td>0.437309</td>\n",
       "      <td>0.000605</td>\n",
       "      <td>0.229532</td>\n",
       "      <td>-1.519902</td>\n",
       "      <td>-1.519902</td>\n",
       "      <td>0.0</td>\n",
       "    </tr>\n",
       "    <tr>\n",
       "      <th>77</th>\n",
       "      <td>1560</td>\n",
       "      <td>0.009206</td>\n",
       "      <td>0.000100</td>\n",
       "      <td>1.664534e-08</td>\n",
       "      <td>0.445281</td>\n",
       "      <td>0.000578</td>\n",
       "      <td>0.205855</td>\n",
       "      <td>-1.492696</td>\n",
       "      <td>-1.492696</td>\n",
       "      <td>0.0</td>\n",
       "    </tr>\n",
       "    <tr>\n",
       "      <th>78</th>\n",
       "      <td>1580</td>\n",
       "      <td>0.009230</td>\n",
       "      <td>0.000100</td>\n",
       "      <td>1.665525e-08</td>\n",
       "      <td>0.449106</td>\n",
       "      <td>0.000569</td>\n",
       "      <td>0.200311</td>\n",
       "      <td>-1.465900</td>\n",
       "      <td>-1.465900</td>\n",
       "      <td>0.0</td>\n",
       "    </tr>\n",
       "    <tr>\n",
       "      <th>79</th>\n",
       "      <td>1600</td>\n",
       "      <td>0.017416</td>\n",
       "      <td>0.000363</td>\n",
       "      <td>2.293189e-07</td>\n",
       "      <td>0.420782</td>\n",
       "      <td>0.002216</td>\n",
       "      <td>0.551955</td>\n",
       "      <td>-1.440523</td>\n",
       "      <td>-1.440523</td>\n",
       "      <td>0.0</td>\n",
       "    </tr>\n",
       "  </tbody>\n",
       "</table>\n",
       "<p>80 rows × 10 columns</p>\n",
       "</div>"
      ],
      "text/plain": [
       "    T[K]    M[muB]       M^2           M^4  U_Binder       chi  C_v(tot)  \\\n",
       "0     20  1.619330  2.622230  6.876093e+00  0.666667  0.000091  1.071467   \n",
       "1     40  1.608173  2.586221  6.688539e+00  0.666667  0.000105  1.031014   \n",
       "2     60  1.596410  2.548525  6.494983e+00  0.666666  0.000498  1.034504   \n",
       "3     80  1.584919  2.511968  6.309993e+00  0.666666  0.000634  0.961010   \n",
       "4    100  1.573813  2.476886  6.134970e+00  0.666667  0.000179  1.092742   \n",
       "..   ...       ...       ...           ...       ...       ...       ...   \n",
       "75  1520  0.009946  0.000117  2.367944e-08  0.423640  0.000705  0.225578   \n",
       "76  1540  0.009311  0.000102  1.771700e-08  0.437309  0.000605  0.229532   \n",
       "77  1560  0.009206  0.000100  1.664534e-08  0.445281  0.000578  0.205855   \n",
       "78  1580  0.009230  0.000100  1.665525e-08  0.449106  0.000569  0.200311   \n",
       "79  1600  0.017416  0.000363  2.293189e-07  0.420782  0.002216  0.551955   \n",
       "\n",
       "            E      E_exc  E_lsf  \n",
       "0  -12.196934 -12.196934    0.0  \n",
       "1  -12.069239 -12.069239    0.0  \n",
       "2  -11.940920 -11.940920    0.0  \n",
       "3  -11.811858 -11.811858    0.0  \n",
       "4  -11.681937 -11.681937    0.0  \n",
       "..        ...        ...    ...  \n",
       "75  -1.548887  -1.548887    0.0  \n",
       "76  -1.519902  -1.519902    0.0  \n",
       "77  -1.492696  -1.492696    0.0  \n",
       "78  -1.465900  -1.465900    0.0  \n",
       "79  -1.440523  -1.440523    0.0  \n",
       "\n",
       "[80 rows x 10 columns]"
      ]
     },
     "execution_count": 4,
     "metadata": {},
     "output_type": "execute_result"
    }
   ],
   "source": [
    "import pandas as pd\n",
    "\n",
    "df = pd.read_csv(\"../src/mammos_spindynamics/db/data/0001/M.csv\")\n",
    "df"
   ]
  },
  {
   "cell_type": "markdown",
   "metadata": {},
   "source": [
    "`M` is the linear interpolating function. We can recover the `x` values with:"
   ]
  },
  {
   "cell_type": "code",
   "execution_count": 5,
   "metadata": {},
   "outputs": [
    {
     "data": {
      "text/plain": [
       "array([  20,   40,   60,   80,  100,  120,  140,  160,  180,  200,  220,\n",
       "        240,  260,  280,  300,  320,  340,  360,  380,  400,  420,  440,\n",
       "        460,  480,  500,  520,  540,  560,  580,  600,  620,  640,  660,\n",
       "        680,  700,  720,  740,  760,  780,  800,  820,  840,  860,  880,\n",
       "        900,  920,  940,  960,  980, 1000, 1020, 1040, 1060, 1080, 1100,\n",
       "       1120, 1140, 1160, 1180, 1200, 1220, 1240, 1260, 1280, 1300, 1320,\n",
       "       1340, 1360, 1380, 1400, 1420, 1440, 1460, 1480, 1500, 1520, 1540,\n",
       "       1560, 1580, 1600])"
      ]
     },
     "execution_count": 5,
     "metadata": {},
     "output_type": "execute_result"
    }
   ],
   "source": [
    "M.x"
   ]
  },
  {
   "cell_type": "markdown",
   "metadata": {},
   "source": [
    "and the `y` values with:"
   ]
  },
  {
   "cell_type": "code",
   "execution_count": 6,
   "metadata": {},
   "outputs": [
    {
     "data": {
      "text/plain": [
       "array([1.61933025, 1.60817312, 1.59640977, 1.58491874, 1.57381262,\n",
       "       1.56226989, 1.55099235, 1.53863502, 1.52674008, 1.51457245,\n",
       "       1.50216865, 1.48911993, 1.47593062, 1.46277137, 1.45073985,\n",
       "       1.43623579, 1.42256579, 1.40930466, 1.3962115 , 1.38120701,\n",
       "       1.36415416, 1.3495301 , 1.33638686, 1.31884309, 1.30201625,\n",
       "       1.28909309, 1.271116  , 1.2540498 , 1.23736025, 1.22013173,\n",
       "       1.19943928, 1.18116016, 1.16256002, 1.14006264, 1.12011358,\n",
       "       1.10038088, 1.07045928, 1.04560189, 1.02357516, 0.99963641,\n",
       "       0.97032778, 0.94296376, 0.90733855, 0.87046604, 0.83043206,\n",
       "       0.80123429, 0.75427567, 0.70656895, 0.64974729, 0.58534105,\n",
       "       0.5071829 , 0.39589071, 0.16228814, 0.06406117, 0.03934674,\n",
       "       0.03104286, 0.02557987, 0.02234653, 0.01985554, 0.01904184,\n",
       "       0.01714646, 0.01588455, 0.01504097, 0.01437822, 0.01348454,\n",
       "       0.0131067 , 0.012521  , 0.01177159, 0.0116398 , 0.01130374,\n",
       "       0.01080877, 0.01059283, 0.01021372, 0.01019372, 0.00983226,\n",
       "       0.0099456 , 0.00931147, 0.00920623, 0.00922989, 0.01741619])"
      ]
     },
     "execution_count": 6,
     "metadata": {},
     "output_type": "execute_result"
    }
   ],
   "source": [
    "M.y"
   ]
  },
  {
   "cell_type": "markdown",
   "metadata": {},
   "source": [
    "Then, we can evaluate it at any other point inside the interval defined by min(`x`) and max(`x`):"
   ]
  },
  {
   "cell_type": "code",
   "execution_count": 7,
   "metadata": {},
   "outputs": [
    {
     "data": {
      "text/plain": [
       "array(1.34295848)"
      ]
     },
     "execution_count": 7,
     "metadata": {},
     "output_type": "execute_result"
    }
   ],
   "source": [
    "M(450)"
   ]
  },
  {
   "cell_type": "code",
   "execution_count": 8,
   "metadata": {},
   "outputs": [
    {
     "ename": "ValueError",
     "evalue": "A value (1.0) in x_new is below the interpolation range's minimum value (20).",
     "output_type": "error",
     "traceback": [
      "\u001b[31m---------------------------------------------------------------------------\u001b[39m",
      "\u001b[31mValueError\u001b[39m                                Traceback (most recent call last)",
      "\u001b[36mCell\u001b[39m\u001b[36m \u001b[39m\u001b[32mIn[8]\u001b[39m\u001b[32m, line 1\u001b[39m\n\u001b[32m----> \u001b[39m\u001b[32m1\u001b[39m \u001b[43mM\u001b[49m\u001b[43m(\u001b[49m\u001b[32;43m1\u001b[39;49m\u001b[43m)\u001b[49m  \u001b[38;5;66;03m# ValueError\u001b[39;00m\n",
      "\u001b[36mFile \u001b[39m\u001b[32m~/repos/mammos/mammos-spindynamics/.pixi/envs/example/lib/python3.13/site-packages/scipy/interpolate/_polyint.py:82\u001b[39m, in \u001b[36m_Interpolator1D.__call__\u001b[39m\u001b[34m(self, x)\u001b[39m\n\u001b[32m     61\u001b[39m \u001b[38;5;250m\u001b[39m\u001b[33;03m\"\"\"\u001b[39;00m\n\u001b[32m     62\u001b[39m \u001b[33;03mEvaluate the interpolant\u001b[39;00m\n\u001b[32m     63\u001b[39m \n\u001b[32m   (...)\u001b[39m\u001b[32m     79\u001b[39m \n\u001b[32m     80\u001b[39m \u001b[33;03m\"\"\"\u001b[39;00m\n\u001b[32m     81\u001b[39m x, x_shape = \u001b[38;5;28mself\u001b[39m._prepare_x(x)\n\u001b[32m---> \u001b[39m\u001b[32m82\u001b[39m y = \u001b[38;5;28;43mself\u001b[39;49m\u001b[43m.\u001b[49m\u001b[43m_evaluate\u001b[49m\u001b[43m(\u001b[49m\u001b[43mx\u001b[49m\u001b[43m)\u001b[49m\n\u001b[32m     83\u001b[39m \u001b[38;5;28;01mreturn\u001b[39;00m \u001b[38;5;28mself\u001b[39m._finish_y(y, x_shape)\n",
      "\u001b[36mFile \u001b[39m\u001b[32m~/repos/mammos/mammos-spindynamics/.pixi/envs/example/lib/python3.13/site-packages/scipy/interpolate/_interpolate.py:533\u001b[39m, in \u001b[36minterp1d._evaluate\u001b[39m\u001b[34m(self, x_new)\u001b[39m\n\u001b[32m    531\u001b[39m y_new = \u001b[38;5;28mself\u001b[39m._call(\u001b[38;5;28mself\u001b[39m, x_new)\n\u001b[32m    532\u001b[39m \u001b[38;5;28;01mif\u001b[39;00m \u001b[38;5;129;01mnot\u001b[39;00m \u001b[38;5;28mself\u001b[39m._extrapolate:\n\u001b[32m--> \u001b[39m\u001b[32m533\u001b[39m     below_bounds, above_bounds = \u001b[38;5;28;43mself\u001b[39;49m\u001b[43m.\u001b[49m\u001b[43m_check_bounds\u001b[49m\u001b[43m(\u001b[49m\u001b[43mx_new\u001b[49m\u001b[43m)\u001b[49m\n\u001b[32m    534\u001b[39m     \u001b[38;5;28;01mif\u001b[39;00m \u001b[38;5;28mlen\u001b[39m(y_new) > \u001b[32m0\u001b[39m:\n\u001b[32m    535\u001b[39m         \u001b[38;5;66;03m# Note fill_value must be broadcast up to the proper size\u001b[39;00m\n\u001b[32m    536\u001b[39m         \u001b[38;5;66;03m# and flattened to work here\u001b[39;00m\n\u001b[32m    537\u001b[39m         y_new[below_bounds] = \u001b[38;5;28mself\u001b[39m._fill_value_below\n",
      "\u001b[36mFile \u001b[39m\u001b[32m~/repos/mammos/mammos-spindynamics/.pixi/envs/example/lib/python3.13/site-packages/scipy/interpolate/_interpolate.py:562\u001b[39m, in \u001b[36minterp1d._check_bounds\u001b[39m\u001b[34m(self, x_new)\u001b[39m\n\u001b[32m    560\u001b[39m \u001b[38;5;28;01mif\u001b[39;00m \u001b[38;5;28mself\u001b[39m.bounds_error \u001b[38;5;129;01mand\u001b[39;00m below_bounds.any():\n\u001b[32m    561\u001b[39m     below_bounds_value = x_new[np.argmax(below_bounds)]\n\u001b[32m--> \u001b[39m\u001b[32m562\u001b[39m     \u001b[38;5;28;01mraise\u001b[39;00m \u001b[38;5;167;01mValueError\u001b[39;00m(\u001b[33mf\u001b[39m\u001b[33m\"\u001b[39m\u001b[33mA value (\u001b[39m\u001b[38;5;132;01m{\u001b[39;00mbelow_bounds_value\u001b[38;5;132;01m}\u001b[39;00m\u001b[33m) in x_new is below \u001b[39m\u001b[33m\"\u001b[39m\n\u001b[32m    563\u001b[39m                      \u001b[33mf\u001b[39m\u001b[33m\"\u001b[39m\u001b[33mthe interpolation range\u001b[39m\u001b[33m'\u001b[39m\u001b[33ms minimum value (\u001b[39m\u001b[38;5;132;01m{\u001b[39;00m\u001b[38;5;28mself\u001b[39m.x[\u001b[32m0\u001b[39m]\u001b[38;5;132;01m}\u001b[39;00m\u001b[33m).\u001b[39m\u001b[33m\"\u001b[39m)\n\u001b[32m    564\u001b[39m \u001b[38;5;28;01mif\u001b[39;00m \u001b[38;5;28mself\u001b[39m.bounds_error \u001b[38;5;129;01mand\u001b[39;00m above_bounds.any():\n\u001b[32m    565\u001b[39m     above_bounds_value = x_new[np.argmax(above_bounds)]\n",
      "\u001b[31mValueError\u001b[39m: A value (1.0) in x_new is below the interpolation range's minimum value (20)."
     ]
    }
   ],
   "source": [
    "M(1)  # ValueError"
   ]
  },
  {
   "cell_type": "code",
   "execution_count": 9,
   "metadata": {},
   "outputs": [
    {
     "data": {
      "text/plain": [
       "[<matplotlib.lines.Line2D at 0x71c087635e50>]"
      ]
     },
     "execution_count": 9,
     "metadata": {},
     "output_type": "execute_result"
    },
    {
     "data": {
      "image/png": "[encoded data removed]",
      "text/plain": [
       "<Figure size 640x480 with 1 Axes>"
      ]
     },
     "metadata": {},
     "output_type": "display_data"
    }
   ],
   "source": [
    "import matplotlib.pyplot as plt\n",
    "import numpy as np\n",
    "\n",
    "xx = np.arange(min(M.x), max(M.x), 1)\n",
    "yy = M(xx)\n",
    "\n",
    "plt.plot(xx, yy)\n",
    "plt.plot(M.x, M.y, \"o\", color=\"red\", markersize=2)"
   ]
  },
  {
   "cell_type": "markdown",
   "metadata": {},
   "source": [
    "## What if we used quadratic interpolation?\n",
    "We can specify the interpolation type in the function `get_M`.\n",
    "The valid options are defined in the [`interp1d` documentation](https://docs.scipy.org/doc/scipy/reference/generated/scipy.interpolate.interp1d.html#scipy.interpolate.interp1d)"
   ]
  },
  {
   "cell_type": "code",
   "execution_count": 10,
   "metadata": {},
   "outputs": [
    {
     "data": {
      "text/html": [
       "<pre style=\"white-space:pre;overflow-x:auto;line-height:normal;font-family:Menlo,'DejaVu Sans Mono',consolas,'Courier New',monospace\">Found material in database.\n",
       "</pre>\n"
      ],
      "text/plain": [
       "Found material in database.\n"
      ]
     },
     "metadata": {},
     "output_type": "display_data"
    },
    {
     "data": {
      "text/html": [
       "<pre style=\"white-space:pre;overflow-x:auto;line-height:normal;font-family:Menlo,'DejaVu Sans Mono',consolas,'Courier New',monospace\">\n",
       "Chemical Formula: Co2Fe2H4\n",
       "Space group name: P6_3/mmc\n",
       "Space group number: <span style=\"color: #008080; text-decoration-color: #008080; font-weight: bold\">194</span>\n",
       "Cell length a: <span style=\"color: #008080; text-decoration-color: #008080; font-weight: bold\">2.645345</span>\n",
       "Cell length b: <span style=\"color: #008080; text-decoration-color: #008080; font-weight: bold\">2.645314</span>\n",
       "Cell length c: <span style=\"color: #008080; text-decoration-color: #008080; font-weight: bold\">8.539476</span>\n",
       "Cell angle alpha: <span style=\"color: #008080; text-decoration-color: #008080; font-weight: bold\">90.0</span>\n",
       "Cell angle beta: <span style=\"color: #008080; text-decoration-color: #008080; font-weight: bold\">90.0</span>\n",
       "Cell angle gamma: <span style=\"color: #008080; text-decoration-color: #008080; font-weight: bold\">120.0</span>\n",
       "Cell volume: <span style=\"color: #008080; text-decoration-color: #008080; font-weight: bold\">51.751119</span>\n",
       "ICSD_label: nan\n",
       "OQMD_label: nan\n",
       "\n",
       "</pre>\n"
      ],
      "text/plain": [
       "\n",
       "Chemical Formula: Co2Fe2H4\n",
       "Space group name: P6_3/mmc\n",
       "Space group number: \u001b[1;36m194\u001b[0m\n",
       "Cell length a: \u001b[1;36m2.645345\u001b[0m\n",
       "Cell length b: \u001b[1;36m2.645314\u001b[0m\n",
       "Cell length c: \u001b[1;36m8.539476\u001b[0m\n",
       "Cell angle alpha: \u001b[1;36m90.0\u001b[0m\n",
       "Cell angle beta: \u001b[1;36m90.0\u001b[0m\n",
       "Cell angle gamma: \u001b[1;36m120.0\u001b[0m\n",
       "Cell volume: \u001b[1;36m51.751119\u001b[0m\n",
       "ICSD_label: nan\n",
       "OQMD_label: nan\n",
       "\n"
      ]
     },
     "metadata": {},
     "output_type": "display_data"
    },
    {
     "data": {
      "text/plain": [
       "[<matplotlib.lines.Line2D at 0x71c0874b7390>]"
      ]
     },
     "execution_count": 10,
     "metadata": {},
     "output_type": "execute_result"
    },
    {
     "data": {
      "image/png": "[encoded data removed]",
      "text/plain": [
       "<Figure size 640x480 with 1 Axes>"
      ]
     },
     "metadata": {},
     "output_type": "display_data"
    }
   ],
   "source": [
    "M2 = get_M(\n",
    "    jfile=\"known_material/jfile\",\n",
    "    momfile=\"known_material/momfile\",\n",
    "    posfile=\"known_material/posfile\",\n",
    "    interpolation_kind=\"quadratic\",\n",
    ")\n",
    "\n",
    "yy2 = M2(xx)\n",
    "plt.plot(xx, yy2)\n",
    "plt.plot(M2.x, M2.y, \"o\", color=\"red\", markersize=2)"
   ]
  }
 ],
 "metadata": {
  "kernelspec": {
   "display_name": "example",
   "language": "python",
   "name": "python3"
  },
  "language_info": {
   "codemirror_mode": {
    "name": "ipython",
    "version": 3
   },
   "file_extension": ".py",
   "mimetype": "text/x-python",
   "name": "python",
   "nbconvert_exporter": "python",
   "pygments_lexer": "ipython3",
   "version": "3.13.2"
  }
 },
 "nbformat": 4,
 "nbformat_minor": 4
}
