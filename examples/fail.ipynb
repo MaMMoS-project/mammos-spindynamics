{
 "cells": [
  {
   "cell_type": "markdown",
   "id": "744ad64d",
   "metadata": {},
   "source": [
    "# Possible query failures\n",
    "We show two possible errors when querying for database entries."
   ]
  },
  {
   "cell_type": "code",
   "execution_count": 1,
   "id": "23d7a62d",
   "metadata": {},
   "outputs": [],
   "source": [
    "from mammos_spindynamics.db import get_M"
   ]
  },
  {
   "cell_type": "markdown",
   "id": "eb7589eb",
   "metadata": {},
   "source": [
    "## 1: Unknown material\n",
    "When the requested material is not found in the database, we get a `LookupError`."
   ]
  },
  {
   "cell_type": "code",
   "execution_count": 2,
   "id": "f82c9a33",
   "metadata": {},
   "outputs": [
    {
     "ename": "LookupError",
     "evalue": "Requested simulation not found in database.",
     "output_type": "error",
     "traceback": [
      "\u001b[31m---------------------------------------------------------------------------\u001b[39m",
      "\u001b[31mLookupError\u001b[39m                               Traceback (most recent call last)",
      "\u001b[36mCell\u001b[39m\u001b[36m \u001b[39m\u001b[32mIn[2]\u001b[39m\u001b[32m, line 1\u001b[39m\n\u001b[32m----> \u001b[39m\u001b[32m1\u001b[39m \u001b[43mget_M\u001b[49m\u001b[43m(\u001b[49m\n\u001b[32m      2\u001b[39m \u001b[43m    \u001b[49m\u001b[43mjfile\u001b[49m\u001b[43m=\u001b[49m\u001b[33;43m\"\u001b[39;49m\u001b[33;43munknown_material/jfile\u001b[39;49m\u001b[33;43m\"\u001b[39;49m\u001b[43m,\u001b[49m\n\u001b[32m      3\u001b[39m \u001b[43m    \u001b[49m\u001b[43mmomfile\u001b[49m\u001b[43m=\u001b[49m\u001b[33;43m\"\u001b[39;49m\u001b[33;43munknown_material/momfile\u001b[39;49m\u001b[33;43m\"\u001b[39;49m\u001b[43m,\u001b[49m\n\u001b[32m      4\u001b[39m \u001b[43m    \u001b[49m\u001b[43mposfile\u001b[49m\u001b[43m=\u001b[49m\u001b[33;43m\"\u001b[39;49m\u001b[33;43munknown_material/posfile\u001b[39;49m\u001b[33;43m\"\u001b[39;49m\u001b[43m,\u001b[49m\n\u001b[32m      5\u001b[39m \u001b[43m)\u001b[49m\n\u001b[32m      6\u001b[39m \u001b[38;5;66;03m# LookupError\u001b[39;00m\n",
      "\u001b[36mFile \u001b[39m\u001b[32m~/repos/mammos/mammos-spindynamics/src/mammos_spindynamics/db/tables.py:79\u001b[39m, in \u001b[36mget_M\u001b[39m\u001b[34m(formula, space_group_name, space_group_number, cell_length_a, cell_length_b, cell_length_c, cell_angle_alpha, cell_angle_beta, cell_angle_gamma, cell_volume, ICSD_label, OQMD_label, jfile, momfile, posfile, interpolation_kind)\u001b[39m\n\u001b[32m     31\u001b[39m \u001b[38;5;250m\u001b[39m\u001b[33;03m\"\"\"Get magnetization function from table.\u001b[39;00m\n\u001b[32m     32\u001b[39m \n\u001b[32m     33\u001b[39m \u001b[33;03mThis function retrieves intrinsic properties at zero temperature\u001b[39;00m\n\u001b[32m   (...)\u001b[39m\u001b[32m     76\u001b[39m \u001b[33;03m:raises LookupError: Too many results found with this formula.\u001b[39;00m\n\u001b[32m     77\u001b[39m \u001b[33;03m\"\"\"\u001b[39;00m\n\u001b[32m     78\u001b[39m \u001b[38;5;28;01mif\u001b[39;00m posfile \u001b[38;5;129;01mis\u001b[39;00m \u001b[38;5;129;01mnot\u001b[39;00m \u001b[38;5;28;01mNone\u001b[39;00m:\n\u001b[32m---> \u001b[39m\u001b[32m79\u001b[39m     table = \u001b[43mload_uppasd_simulation\u001b[49m\u001b[43m(\u001b[49m\u001b[43mjfile\u001b[49m\u001b[43m=\u001b[49m\u001b[43mjfile\u001b[49m\u001b[43m,\u001b[49m\u001b[43m \u001b[49m\u001b[43mmomfile\u001b[49m\u001b[43m=\u001b[49m\u001b[43mmomfile\u001b[49m\u001b[43m,\u001b[49m\u001b[43m \u001b[49m\u001b[43mposfile\u001b[49m\u001b[43m=\u001b[49m\u001b[43mposfile\u001b[49m\u001b[43m)\u001b[49m\n\u001b[32m     80\u001b[39m \u001b[38;5;28;01melse\u001b[39;00m:\n\u001b[32m     81\u001b[39m     table = load_ab_initio_data(\n\u001b[32m     82\u001b[39m         formula=formula,\n\u001b[32m     83\u001b[39m         space_group_name=space_group_name,\n\u001b[32m   (...)\u001b[39m\u001b[32m     93\u001b[39m         OQMD_label=OQMD_label,\n\u001b[32m     94\u001b[39m     )\n",
      "\u001b[36mFile \u001b[39m\u001b[32m~/repos/mammos/mammos-spindynamics/src/mammos_spindynamics/db/tables.py:112\u001b[39m, in \u001b[36mload_uppasd_simulation\u001b[39m\u001b[34m(jfile, momfile, posfile)\u001b[39m\n\u001b[32m    110\u001b[39m         \u001b[38;5;28mprint\u001b[39m(describe_material(material_label=ii.name))\n\u001b[32m    111\u001b[39m         \u001b[38;5;28;01mreturn\u001b[39;00m table\n\u001b[32m--> \u001b[39m\u001b[32m112\u001b[39m \u001b[38;5;28;01mraise\u001b[39;00m \u001b[38;5;167;01mLookupError\u001b[39;00m(\u001b[33m\"\u001b[39m\u001b[33mRequested simulation not found in database.\u001b[39m\u001b[33m\"\u001b[39m)\n",
      "\u001b[31mLookupError\u001b[39m: Requested simulation not found in database."
     ]
    }
   ],
   "source": [
    "get_M(\n",
    "    jfile=\"unknown_material/jfile\",\n",
    "    momfile=\"unknown_material/momfile\",\n",
    "    posfile=\"unknown_material/posfile\",\n",
    ")\n",
    "# LookupError"
   ]
  },
  {
   "cell_type": "markdown",
   "id": "4a678310",
   "metadata": {},
   "source": [
    "## 2. Wrong formatting\n",
    "When the software is not able to parse an input file, we get a `Syntax Error`.\n",
    "Here the wrong file will be specified and a link to the correct syntax is given."
   ]
  },
  {
   "cell_type": "code",
   "execution_count": 3,
   "id": "79583528",
   "metadata": {},
   "outputs": [
    {
     "ename": "SyntaxError",
     "evalue": "\nUnable to parse momfile.\nPlease check syntax according to\nhttps://uppasd.github.io/UppASD-manual/input/#momfile\n (<string>)",
     "output_type": "error",
     "traceback": [
      "Traceback \u001b[36m(most recent call last)\u001b[39m:\n",
      "  File \u001b[92m~/repos/mammos/mammos-spindynamics/.pixi/envs/example/lib/python3.13/site-packages/IPython/core/interactiveshell.py:3667\u001b[39m in \u001b[95mrun_code\u001b[39m\n    exec(code_obj, self.user_global_ns, self.user_ns)\n",
      "  Cell \u001b[92mIn[3]\u001b[39m\u001b[92m, line 1\u001b[39m\n    get_M(\n",
      "  File \u001b[92m~/repos/mammos/mammos-spindynamics/src/mammos_spindynamics/db/tables.py:79\u001b[39m in \u001b[95mget_M\u001b[39m\n    table = load_uppasd_simulation(jfile=jfile, momfile=momfile, posfile=posfile)\n",
      "  File \u001b[92m~/repos/mammos/mammos-spindynamics/src/mammos_spindynamics/db/tables.py:104\u001b[39m in \u001b[95mload_uppasd_simulation\u001b[39m\n    mom = parse_momfile(momfile)\n",
      "\u001b[36m  \u001b[39m\u001b[36mFile \u001b[39m\u001b[32m~/repos/mammos/mammos-spindynamics/src/mammos_spindynamics/db/tables.py:162\u001b[39m\u001b[36m in \u001b[39m\u001b[35mparse_momfile\u001b[39m\n\u001b[31m    \u001b[39m\u001b[31mraise SyntaxError(\u001b[39m\n",
      "  \u001b[36mFile \u001b[39m\u001b[32m<string>\u001b[39m\n\u001b[31mSyntaxError\u001b[39m\u001b[31m:\u001b[39m \nUnable to parse momfile.\nPlease check syntax according to\nhttps://uppasd.github.io/UppASD-manual/input/#momfile\n\n"
     ]
    }
   ],
   "source": [
    "get_M(\n",
    "    jfile=\"wrong_data/jfile\",\n",
    "    momfile=\"wrong_data/momfile\",\n",
    "    posfile=\"wrong_data/posfile\",\n",
    ")\n",
    "# SyntaxError"
   ]
  }
 ],
 "metadata": {
  "kernelspec": {
   "display_name": "example",
   "language": "python",
   "name": "python3"
  },
  "language_info": {
   "codemirror_mode": {
    "name": "ipython",
    "version": 3
   },
   "file_extension": ".py",
   "mimetype": "text/x-python",
   "name": "python",
   "nbconvert_exporter": "python",
   "pygments_lexer": "ipython3",
   "version": "3.13.2"
  }
 },
 "nbformat": 4,
 "nbformat_minor": 5
}
