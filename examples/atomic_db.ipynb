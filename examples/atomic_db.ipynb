{
 "cells": [
  {
   "cell_type": "markdown",
   "metadata": {},
   "source": [
    "# Material structure to intrinsic properties lookup"
   ]
  },
  {
   "cell_type": "markdown",
   "metadata": {},
   "source": [
    "Instead of using a particular spin dynamics software and querying the input files, we start from the material structure and extract the intrinsic properties as a function of temperature."
   ]
  },
  {
   "cell_type": "code",
   "execution_count": 1,
   "metadata": {},
   "outputs": [],
   "source": [
    "from mammos_spindynamics.db import find_materials, get_M"
   ]
  },
  {
   "cell_type": "markdown",
   "metadata": {},
   "source": [
    "As a first example, we extract a material given the formula and space group information."
   ]
  },
  {
   "cell_type": "code",
   "execution_count": 2,
   "metadata": {},
   "outputs": [
    {
     "data": {
      "text/html": [
       "<pre style=\"white-space:pre;overflow-x:auto;line-height:normal;font-family:Menlo,'DejaVu Sans Mono',consolas,'Courier New',monospace\">Found material in database.\n",
       "</pre>\n"
      ],
      "text/plain": [
       "Found material in database.\n"
      ]
     },
     "metadata": {},
     "output_type": "display_data"
    },
    {
     "data": {
      "text/html": [
       "<pre style=\"white-space:pre;overflow-x:auto;line-height:normal;font-family:Menlo,'DejaVu Sans Mono',consolas,'Courier New',monospace\">\n",
       "Chemical Formula: Y2Ti4Fe18\n",
       "Space group name: P4/mbm\n",
       "Space group number: <span style=\"color: #008080; text-decoration-color: #008080; font-weight: bold\">127</span>\n",
       "Cell length a: <span style=\"color: #008080; text-decoration-color: #008080; font-weight: bold\">8.186244</span>\n",
       "Cell length b: <span style=\"color: #008080; text-decoration-color: #008080; font-weight: bold\">8.186244</span>\n",
       "Cell length c: <span style=\"color: #008080; text-decoration-color: #008080; font-weight: bold\">4.892896</span>\n",
       "Cell angle alpha: <span style=\"color: #008080; text-decoration-color: #008080; font-weight: bold\">90.0</span>\n",
       "Cell angle beta: <span style=\"color: #008080; text-decoration-color: #008080; font-weight: bold\">90.0</span>\n",
       "Cell angle gamma: <span style=\"color: #008080; text-decoration-color: #008080; font-weight: bold\">90.0</span>\n",
       "Cell volume: <span style=\"color: #008080; text-decoration-color: #008080; font-weight: bold\">327.8954234</span>\n",
       "ICSD_label: nan\n",
       "OQMD_label: nan\n",
       "\n",
       "</pre>\n"
      ],
      "text/plain": [
       "\n",
       "Chemical Formula: Y2Ti4Fe18\n",
       "Space group name: P4/mbm\n",
       "Space group number: \u001b[1;36m127\u001b[0m\n",
       "Cell length a: \u001b[1;36m8.186244\u001b[0m\n",
       "Cell length b: \u001b[1;36m8.186244\u001b[0m\n",
       "Cell length c: \u001b[1;36m4.892896\u001b[0m\n",
       "Cell angle alpha: \u001b[1;36m90.0\u001b[0m\n",
       "Cell angle beta: \u001b[1;36m90.0\u001b[0m\n",
       "Cell angle gamma: \u001b[1;36m90.0\u001b[0m\n",
       "Cell volume: \u001b[1;36m327.8954234\u001b[0m\n",
       "ICSD_label: nan\n",
       "OQMD_label: nan\n",
       "\n"
      ]
     },
     "metadata": {},
     "output_type": "display_data"
    }
   ],
   "source": [
    "M = get_M(\n",
    "    formula=\"Y2Ti4Fe18\",\n",
    "    space_group_name=\"P4/mbm\",\n",
    "    space_group_number=127,\n",
    ")"
   ]
  },
  {
   "cell_type": "markdown",
   "metadata": {},
   "source": [
    "Some materials are published in bigger databases, such as the NIST Inorganic Crystal Structure Database (ICSD) or the Open Quantum Materials Database (OQMD).\n",
    "We can query for such materials using those databases' labels:"
   ]
  },
  {
   "cell_type": "code",
   "execution_count": 3,
   "metadata": {},
   "outputs": [
    {
     "data": {
      "text/html": [
       "<pre style=\"white-space:pre;overflow-x:auto;line-height:normal;font-family:Menlo,'DejaVu Sans Mono',consolas,'Courier New',monospace\">Found material in database.\n",
       "</pre>\n"
      ],
      "text/plain": [
       "Found material in database.\n"
      ]
     },
     "metadata": {},
     "output_type": "display_data"
    },
    {
     "data": {
      "text/html": [
       "<pre style=\"white-space:pre;overflow-x:auto;line-height:normal;font-family:Menlo,'DejaVu Sans Mono',consolas,'Courier New',monospace\">\n",
       "Chemical Formula: CrNiP\n",
       "Space group name: P-62m\n",
       "Space group number: <span style=\"color: #008080; text-decoration-color: #008080; font-weight: bold\">189</span>\n",
       "Cell length a: <span style=\"color: #008080; text-decoration-color: #008080; font-weight: bold\">5.84</span>\n",
       "Cell length b: <span style=\"color: #008080; text-decoration-color: #008080; font-weight: bold\">5.84</span>\n",
       "Cell length c: <span style=\"color: #008080; text-decoration-color: #008080; font-weight: bold\">3.514</span>\n",
       "Cell angle alpha: <span style=\"color: #008080; text-decoration-color: #008080; font-weight: bold\">90.0</span>\n",
       "Cell angle beta: <span style=\"color: #008080; text-decoration-color: #008080; font-weight: bold\">90.0</span>\n",
       "Cell angle gamma: <span style=\"color: #008080; text-decoration-color: #008080; font-weight: bold\">120.0</span>\n",
       "Cell volume: <span style=\"color: #008080; text-decoration-color: #008080; font-weight: bold\">103.79</span>\n",
       "ICSD_label: <span style=\"color: #008080; text-decoration-color: #008080; font-weight: bold\">600596</span>\n",
       "OQMD_label: icsd-<span style=\"color: #008080; text-decoration-color: #008080; font-weight: bold\">600596</span>\n",
       "\n",
       "</pre>\n"
      ],
      "text/plain": [
       "\n",
       "Chemical Formula: CrNiP\n",
       "Space group name: P-62m\n",
       "Space group number: \u001b[1;36m189\u001b[0m\n",
       "Cell length a: \u001b[1;36m5.84\u001b[0m\n",
       "Cell length b: \u001b[1;36m5.84\u001b[0m\n",
       "Cell length c: \u001b[1;36m3.514\u001b[0m\n",
       "Cell angle alpha: \u001b[1;36m90.0\u001b[0m\n",
       "Cell angle beta: \u001b[1;36m90.0\u001b[0m\n",
       "Cell angle gamma: \u001b[1;36m120.0\u001b[0m\n",
       "Cell volume: \u001b[1;36m103.79\u001b[0m\n",
       "ICSD_label: \u001b[1;36m600596\u001b[0m\n",
       "OQMD_label: icsd-\u001b[1;36m600596\u001b[0m\n",
       "\n"
      ]
     },
     "metadata": {},
     "output_type": "display_data"
    }
   ],
   "source": [
    "M = get_M(ICSD_label=\"600596\")"
   ]
  },
  {
   "cell_type": "markdown",
   "metadata": {},
   "source": [
    "## How to look for a material?\n",
    "We can use the function `find_material` to list all materials satisfying certain constraints:"
   ]
  },
  {
   "cell_type": "code",
   "execution_count": 4,
   "metadata": {},
   "outputs": [
    {
     "data": {
      "text/html": [
       "<div>\n",
       "<style scoped>\n",
       "    .dataframe tbody tr th:only-of-type {\n",
       "        vertical-align: middle;\n",
       "    }\n",
       "\n",
       "    .dataframe tbody tr th {\n",
       "        vertical-align: top;\n",
       "    }\n",
       "\n",
       "    .dataframe thead th {\n",
       "        text-align: right;\n",
       "    }\n",
       "</style>\n",
       "<table border=\"1\" class=\"dataframe\">\n",
       "  <thead>\n",
       "    <tr style=\"text-align: right;\">\n",
       "      <th></th>\n",
       "      <th>formula</th>\n",
       "      <th>space_group_name</th>\n",
       "      <th>space_group_number</th>\n",
       "      <th>cell_length_a</th>\n",
       "      <th>cell_length_b</th>\n",
       "      <th>cell_length_c</th>\n",
       "      <th>cell_angle_alpha</th>\n",
       "      <th>cell_angle_beta</th>\n",
       "      <th>cell_angle_gamma</th>\n",
       "      <th>cell_volume</th>\n",
       "      <th>ICSD_label</th>\n",
       "      <th>OQMD_label</th>\n",
       "      <th>label</th>\n",
       "    </tr>\n",
       "  </thead>\n",
       "  <tbody>\n",
       "    <tr>\n",
       "      <th>0</th>\n",
       "      <td>Co2Fe2H4</td>\n",
       "      <td>P6_3/mmc</td>\n",
       "      <td>194</td>\n",
       "      <td>2.645345</td>\n",
       "      <td>2.645314</td>\n",
       "      <td>8.539476</td>\n",
       "      <td>90.0</td>\n",
       "      <td>90.0</td>\n",
       "      <td>120.0</td>\n",
       "      <td>51.751119</td>\n",
       "      <td>NaN</td>\n",
       "      <td>NaN</td>\n",
       "      <td>0001</td>\n",
       "    </tr>\n",
       "    <tr>\n",
       "      <th>1</th>\n",
       "      <td>CrNiP</td>\n",
       "      <td>P-62m</td>\n",
       "      <td>189</td>\n",
       "      <td>5.840000</td>\n",
       "      <td>5.840000</td>\n",
       "      <td>3.514000</td>\n",
       "      <td>90.0</td>\n",
       "      <td>90.0</td>\n",
       "      <td>120.0</td>\n",
       "      <td>103.790000</td>\n",
       "      <td>600596</td>\n",
       "      <td>icsd-600596</td>\n",
       "      <td>0002</td>\n",
       "    </tr>\n",
       "    <tr>\n",
       "      <th>2</th>\n",
       "      <td>Y2Ti4Fe18</td>\n",
       "      <td>P4/mbm</td>\n",
       "      <td>127</td>\n",
       "      <td>8.186244</td>\n",
       "      <td>8.186244</td>\n",
       "      <td>4.892896</td>\n",
       "      <td>90.0</td>\n",
       "      <td>90.0</td>\n",
       "      <td>90.0</td>\n",
       "      <td>327.895423</td>\n",
       "      <td>NaN</td>\n",
       "      <td>NaN</td>\n",
       "      <td>0003</td>\n",
       "    </tr>\n",
       "  </tbody>\n",
       "</table>\n",
       "</div>"
      ],
      "text/plain": [
       "     formula space_group_name  space_group_number  cell_length_a  \\\n",
       "0   Co2Fe2H4         P6_3/mmc                 194       2.645345   \n",
       "1      CrNiP            P-62m                 189       5.840000   \n",
       "2  Y2Ti4Fe18           P4/mbm                 127       8.186244   \n",
       "\n",
       "   cell_length_b  cell_length_c  cell_angle_alpha  cell_angle_beta  \\\n",
       "0       2.645314       8.539476              90.0             90.0   \n",
       "1       5.840000       3.514000              90.0             90.0   \n",
       "2       8.186244       4.892896              90.0             90.0   \n",
       "\n",
       "   cell_angle_gamma  cell_volume ICSD_label   OQMD_label label  \n",
       "0             120.0    51.751119        NaN          NaN  0001  \n",
       "1             120.0   103.790000     600596  icsd-600596  0002  \n",
       "2              90.0   327.895423        NaN          NaN  0003  "
      ]
     },
     "execution_count": 4,
     "metadata": {},
     "output_type": "execute_result"
    }
   ],
   "source": [
    "find_materials()"
   ]
  },
  {
   "cell_type": "code",
   "execution_count": 5,
   "metadata": {},
   "outputs": [
    {
     "data": {
      "text/html": [
       "<div>\n",
       "<style scoped>\n",
       "    .dataframe tbody tr th:only-of-type {\n",
       "        vertical-align: middle;\n",
       "    }\n",
       "\n",
       "    .dataframe tbody tr th {\n",
       "        vertical-align: top;\n",
       "    }\n",
       "\n",
       "    .dataframe thead th {\n",
       "        text-align: right;\n",
       "    }\n",
       "</style>\n",
       "<table border=\"1\" class=\"dataframe\">\n",
       "  <thead>\n",
       "    <tr style=\"text-align: right;\">\n",
       "      <th></th>\n",
       "      <th>formula</th>\n",
       "      <th>space_group_name</th>\n",
       "      <th>space_group_number</th>\n",
       "      <th>cell_length_a</th>\n",
       "      <th>cell_length_b</th>\n",
       "      <th>cell_length_c</th>\n",
       "      <th>cell_angle_alpha</th>\n",
       "      <th>cell_angle_beta</th>\n",
       "      <th>cell_angle_gamma</th>\n",
       "      <th>cell_volume</th>\n",
       "      <th>ICSD_label</th>\n",
       "      <th>OQMD_label</th>\n",
       "      <th>label</th>\n",
       "    </tr>\n",
       "  </thead>\n",
       "  <tbody>\n",
       "    <tr>\n",
       "      <th>1</th>\n",
       "      <td>CrNiP</td>\n",
       "      <td>P-62m</td>\n",
       "      <td>189</td>\n",
       "      <td>5.84</td>\n",
       "      <td>5.84</td>\n",
       "      <td>3.514</td>\n",
       "      <td>90.0</td>\n",
       "      <td>90.0</td>\n",
       "      <td>120.0</td>\n",
       "      <td>103.79</td>\n",
       "      <td>600596</td>\n",
       "      <td>icsd-600596</td>\n",
       "      <td>0002</td>\n",
       "    </tr>\n",
       "  </tbody>\n",
       "</table>\n",
       "</div>"
      ],
      "text/plain": [
       "  formula space_group_name  space_group_number  cell_length_a  cell_length_b  \\\n",
       "1   CrNiP            P-62m                 189           5.84           5.84   \n",
       "\n",
       "   cell_length_c  cell_angle_alpha  cell_angle_beta  cell_angle_gamma  \\\n",
       "1          3.514              90.0             90.0             120.0   \n",
       "\n",
       "   cell_volume ICSD_label   OQMD_label label  \n",
       "1       103.79     600596  icsd-600596  0002  "
      ]
     },
     "execution_count": 5,
     "metadata": {},
     "output_type": "execute_result"
    }
   ],
   "source": [
    "find_materials(formula=\"CrNiP\")"
   ]
  },
  {
   "cell_type": "markdown",
   "metadata": {},
   "source": [
    "## What is `M`?"
   ]
  },
  {
   "cell_type": "code",
   "execution_count": 6,
   "metadata": {},
   "outputs": [
    {
     "data": {
      "text/plain": [
       "scipy.interpolate._interpolate.interp1d"
      ]
     },
     "execution_count": 6,
     "metadata": {},
     "output_type": "execute_result"
    }
   ],
   "source": [
    "type(M)"
   ]
  },
  {
   "cell_type": "markdown",
   "metadata": {},
   "source": [
    "The table we have loaded looks like this:"
   ]
  },
  {
   "cell_type": "code",
   "execution_count": 7,
   "metadata": {},
   "outputs": [
    {
     "data": {
      "text/html": [
       "<div>\n",
       "<style scoped>\n",
       "    .dataframe tbody tr th:only-of-type {\n",
       "        vertical-align: middle;\n",
       "    }\n",
       "\n",
       "    .dataframe tbody tr th {\n",
       "        vertical-align: top;\n",
       "    }\n",
       "\n",
       "    .dataframe thead th {\n",
       "        text-align: right;\n",
       "    }\n",
       "</style>\n",
       "<table border=\"1\" class=\"dataframe\">\n",
       "  <thead>\n",
       "    <tr style=\"text-align: right;\">\n",
       "      <th></th>\n",
       "      <th>T[K]</th>\n",
       "      <th>M[muB]</th>\n",
       "      <th>M^2</th>\n",
       "      <th>M^4</th>\n",
       "      <th>U_Binder</th>\n",
       "      <th>chi</th>\n",
       "      <th>C_v(tot)</th>\n",
       "      <th>E</th>\n",
       "      <th>E_exc</th>\n",
       "      <th>E_lsf</th>\n",
       "    </tr>\n",
       "  </thead>\n",
       "  <tbody>\n",
       "    <tr>\n",
       "      <th>0</th>\n",
       "      <td>10</td>\n",
       "      <td>1.862562</td>\n",
       "      <td>3.469137</td>\n",
       "      <td>1.203492e+01</td>\n",
       "      <td>0.666667</td>\n",
       "      <td>0.002788</td>\n",
       "      <td>1.012398</td>\n",
       "      <td>-8.575637</td>\n",
       "      <td>-8.575637</td>\n",
       "      <td>0.0</td>\n",
       "    </tr>\n",
       "    <tr>\n",
       "      <th>1</th>\n",
       "      <td>30</td>\n",
       "      <td>1.813005</td>\n",
       "      <td>3.286990</td>\n",
       "      <td>1.080432e+01</td>\n",
       "      <td>0.666666</td>\n",
       "      <td>0.006225</td>\n",
       "      <td>0.908200</td>\n",
       "      <td>-8.448294</td>\n",
       "      <td>-8.448294</td>\n",
       "      <td>0.0</td>\n",
       "    </tr>\n",
       "    <tr>\n",
       "      <th>2</th>\n",
       "      <td>50</td>\n",
       "      <td>1.767635</td>\n",
       "      <td>3.124536</td>\n",
       "      <td>9.762764e+00</td>\n",
       "      <td>0.666665</td>\n",
       "      <td>0.006492</td>\n",
       "      <td>1.050185</td>\n",
       "      <td>-8.320102</td>\n",
       "      <td>-8.320102</td>\n",
       "      <td>0.0</td>\n",
       "    </tr>\n",
       "    <tr>\n",
       "      <th>3</th>\n",
       "      <td>70</td>\n",
       "      <td>1.720170</td>\n",
       "      <td>2.958986</td>\n",
       "      <td>8.755630e+00</td>\n",
       "      <td>0.666665</td>\n",
       "      <td>0.004282</td>\n",
       "      <td>1.057235</td>\n",
       "      <td>-8.191044</td>\n",
       "      <td>-8.191044</td>\n",
       "      <td>0.0</td>\n",
       "    </tr>\n",
       "    <tr>\n",
       "      <th>4</th>\n",
       "      <td>90</td>\n",
       "      <td>1.677340</td>\n",
       "      <td>2.813472</td>\n",
       "      <td>7.915658e+00</td>\n",
       "      <td>0.666665</td>\n",
       "      <td>0.003851</td>\n",
       "      <td>0.984763</td>\n",
       "      <td>-8.061073</td>\n",
       "      <td>-8.061073</td>\n",
       "      <td>0.0</td>\n",
       "    </tr>\n",
       "    <tr>\n",
       "      <th>5</th>\n",
       "      <td>110</td>\n",
       "      <td>1.629221</td>\n",
       "      <td>2.654371</td>\n",
       "      <td>7.045786e+00</td>\n",
       "      <td>0.666662</td>\n",
       "      <td>0.009731</td>\n",
       "      <td>0.958378</td>\n",
       "      <td>-7.929904</td>\n",
       "      <td>-7.929904</td>\n",
       "      <td>0.0</td>\n",
       "    </tr>\n",
       "    <tr>\n",
       "      <th>6</th>\n",
       "      <td>130</td>\n",
       "      <td>1.589929</td>\n",
       "      <td>2.527893</td>\n",
       "      <td>6.390419e+00</td>\n",
       "      <td>0.666657</td>\n",
       "      <td>0.015153</td>\n",
       "      <td>0.981410</td>\n",
       "      <td>-7.797645</td>\n",
       "      <td>-7.797645</td>\n",
       "      <td>0.0</td>\n",
       "    </tr>\n",
       "    <tr>\n",
       "      <th>7</th>\n",
       "      <td>150</td>\n",
       "      <td>1.542855</td>\n",
       "      <td>2.380417</td>\n",
       "      <td>5.666536e+00</td>\n",
       "      <td>0.666658</td>\n",
       "      <td>0.011878</td>\n",
       "      <td>1.066596</td>\n",
       "      <td>-7.664030</td>\n",
       "      <td>-7.664030</td>\n",
       "      <td>0.0</td>\n",
       "    </tr>\n",
       "    <tr>\n",
       "      <th>8</th>\n",
       "      <td>170</td>\n",
       "      <td>1.501660</td>\n",
       "      <td>2.255025</td>\n",
       "      <td>5.085513e+00</td>\n",
       "      <td>0.666642</td>\n",
       "      <td>0.027744</td>\n",
       "      <td>1.066178</td>\n",
       "      <td>-7.529041</td>\n",
       "      <td>-7.529041</td>\n",
       "      <td>0.0</td>\n",
       "    </tr>\n",
       "    <tr>\n",
       "      <th>9</th>\n",
       "      <td>190</td>\n",
       "      <td>1.457658</td>\n",
       "      <td>2.124792</td>\n",
       "      <td>4.514957e+00</td>\n",
       "      <td>0.666651</td>\n",
       "      <td>0.014929</td>\n",
       "      <td>1.031491</td>\n",
       "      <td>-7.392399</td>\n",
       "      <td>-7.392399</td>\n",
       "      <td>0.0</td>\n",
       "    </tr>\n",
       "    <tr>\n",
       "      <th>10</th>\n",
       "      <td>210</td>\n",
       "      <td>1.401748</td>\n",
       "      <td>1.964941</td>\n",
       "      <td>3.861344e+00</td>\n",
       "      <td>0.666636</td>\n",
       "      <td>0.023776</td>\n",
       "      <td>1.005126</td>\n",
       "      <td>-7.254073</td>\n",
       "      <td>-7.254073</td>\n",
       "      <td>0.0</td>\n",
       "    </tr>\n",
       "    <tr>\n",
       "      <th>11</th>\n",
       "      <td>230</td>\n",
       "      <td>1.355608</td>\n",
       "      <td>1.837727</td>\n",
       "      <td>3.377634e+00</td>\n",
       "      <td>0.666628</td>\n",
       "      <td>0.026037</td>\n",
       "      <td>1.126014</td>\n",
       "      <td>-7.113923</td>\n",
       "      <td>-7.113923</td>\n",
       "      <td>0.0</td>\n",
       "    </tr>\n",
       "    <tr>\n",
       "      <th>12</th>\n",
       "      <td>250</td>\n",
       "      <td>1.311323</td>\n",
       "      <td>1.719648</td>\n",
       "      <td>2.957726e+00</td>\n",
       "      <td>0.666606</td>\n",
       "      <td>0.035275</td>\n",
       "      <td>1.079129</td>\n",
       "      <td>-6.971442</td>\n",
       "      <td>-6.971442</td>\n",
       "      <td>0.0</td>\n",
       "    </tr>\n",
       "    <tr>\n",
       "      <th>13</th>\n",
       "      <td>270</td>\n",
       "      <td>1.269612</td>\n",
       "      <td>1.611975</td>\n",
       "      <td>2.598853e+00</td>\n",
       "      <td>0.666617</td>\n",
       "      <td>0.025000</td>\n",
       "      <td>1.030389</td>\n",
       "      <td>-6.826641</td>\n",
       "      <td>-6.826641</td>\n",
       "      <td>0.0</td>\n",
       "    </tr>\n",
       "    <tr>\n",
       "      <th>14</th>\n",
       "      <td>290</td>\n",
       "      <td>1.227944</td>\n",
       "      <td>1.507909</td>\n",
       "      <td>2.274163e+00</td>\n",
       "      <td>0.666612</td>\n",
       "      <td>0.024007</td>\n",
       "      <td>1.237107</td>\n",
       "      <td>-6.678970</td>\n",
       "      <td>-6.678970</td>\n",
       "      <td>0.0</td>\n",
       "    </tr>\n",
       "    <tr>\n",
       "      <th>15</th>\n",
       "      <td>310</td>\n",
       "      <td>1.175784</td>\n",
       "      <td>1.382536</td>\n",
       "      <td>1.911785e+00</td>\n",
       "      <td>0.666601</td>\n",
       "      <td>0.024843</td>\n",
       "      <td>1.271271</td>\n",
       "      <td>-6.527707</td>\n",
       "      <td>-6.527707</td>\n",
       "      <td>0.0</td>\n",
       "    </tr>\n",
       "    <tr>\n",
       "      <th>16</th>\n",
       "      <td>330</td>\n",
       "      <td>1.110446</td>\n",
       "      <td>1.233147</td>\n",
       "      <td>1.520933e+00</td>\n",
       "      <td>0.666605</td>\n",
       "      <td>0.019425</td>\n",
       "      <td>1.326243</td>\n",
       "      <td>-6.372555</td>\n",
       "      <td>-6.372555</td>\n",
       "      <td>0.0</td>\n",
       "    </tr>\n",
       "    <tr>\n",
       "      <th>17</th>\n",
       "      <td>350</td>\n",
       "      <td>1.038134</td>\n",
       "      <td>1.077918</td>\n",
       "      <td>1.162762e+00</td>\n",
       "      <td>0.666421</td>\n",
       "      <td>0.062973</td>\n",
       "      <td>1.326843</td>\n",
       "      <td>-6.212122</td>\n",
       "      <td>-6.212122</td>\n",
       "      <td>0.0</td>\n",
       "    </tr>\n",
       "    <tr>\n",
       "      <th>18</th>\n",
       "      <td>370</td>\n",
       "      <td>0.973428</td>\n",
       "      <td>0.947815</td>\n",
       "      <td>8.993125e-01</td>\n",
       "      <td>0.666311</td>\n",
       "      <td>0.076700</td>\n",
       "      <td>1.386128</td>\n",
       "      <td>-6.044742</td>\n",
       "      <td>-6.044742</td>\n",
       "      <td>0.0</td>\n",
       "    </tr>\n",
       "    <tr>\n",
       "      <th>19</th>\n",
       "      <td>390</td>\n",
       "      <td>0.892229</td>\n",
       "      <td>0.796393</td>\n",
       "      <td>6.352685e-01</td>\n",
       "      <td>0.666127</td>\n",
       "      <td>0.092468</td>\n",
       "      <td>1.459264</td>\n",
       "      <td>-5.868230</td>\n",
       "      <td>-5.868230</td>\n",
       "      <td>0.0</td>\n",
       "    </tr>\n",
       "    <tr>\n",
       "      <th>20</th>\n",
       "      <td>410</td>\n",
       "      <td>0.758801</td>\n",
       "      <td>0.576241</td>\n",
       "      <td>3.331270e-01</td>\n",
       "      <td>0.665589</td>\n",
       "      <td>0.126548</td>\n",
       "      <td>1.515132</td>\n",
       "      <td>-5.676377</td>\n",
       "      <td>-5.676377</td>\n",
       "      <td>0.0</td>\n",
       "    </tr>\n",
       "    <tr>\n",
       "      <th>21</th>\n",
       "      <td>430</td>\n",
       "      <td>0.441421</td>\n",
       "      <td>0.201737</td>\n",
       "      <td>4.525185e-02</td>\n",
       "      <td>0.629367</td>\n",
       "      <td>1.797451</td>\n",
       "      <td>2.199642</td>\n",
       "      <td>-5.455014</td>\n",
       "      <td>-5.455014</td>\n",
       "      <td>0.0</td>\n",
       "    </tr>\n",
       "    <tr>\n",
       "      <th>22</th>\n",
       "      <td>450</td>\n",
       "      <td>0.066922</td>\n",
       "      <td>0.005211</td>\n",
       "      <td>4.392268e-05</td>\n",
       "      <td>0.460845</td>\n",
       "      <td>0.182773</td>\n",
       "      <td>1.776033</td>\n",
       "      <td>-5.227447</td>\n",
       "      <td>-5.227447</td>\n",
       "      <td>0.0</td>\n",
       "    </tr>\n",
       "    <tr>\n",
       "      <th>23</th>\n",
       "      <td>470</td>\n",
       "      <td>0.045666</td>\n",
       "      <td>0.002420</td>\n",
       "      <td>9.184706e-06</td>\n",
       "      <td>0.477165</td>\n",
       "      <td>0.079897</td>\n",
       "      <td>1.446893</td>\n",
       "      <td>-5.026112</td>\n",
       "      <td>-5.026112</td>\n",
       "      <td>0.0</td>\n",
       "    </tr>\n",
       "    <tr>\n",
       "      <th>24</th>\n",
       "      <td>490</td>\n",
       "      <td>0.030157</td>\n",
       "      <td>0.001059</td>\n",
       "      <td>1.781157e-06</td>\n",
       "      <td>0.470736</td>\n",
       "      <td>0.034299</td>\n",
       "      <td>1.465567</td>\n",
       "      <td>-4.835336</td>\n",
       "      <td>-4.835336</td>\n",
       "      <td>0.0</td>\n",
       "    </tr>\n",
       "    <tr>\n",
       "      <th>25</th>\n",
       "      <td>510</td>\n",
       "      <td>0.023554</td>\n",
       "      <td>0.000653</td>\n",
       "      <td>7.030580e-07</td>\n",
       "      <td>0.450775</td>\n",
       "      <td>0.021668</td>\n",
       "      <td>1.459390</td>\n",
       "      <td>-4.653239</td>\n",
       "      <td>-4.653239</td>\n",
       "      <td>0.0</td>\n",
       "    </tr>\n",
       "    <tr>\n",
       "      <th>26</th>\n",
       "      <td>530</td>\n",
       "      <td>0.020840</td>\n",
       "      <td>0.000508</td>\n",
       "      <td>4.240274e-07</td>\n",
       "      <td>0.452880</td>\n",
       "      <td>0.015669</td>\n",
       "      <td>1.361857</td>\n",
       "      <td>-4.476725</td>\n",
       "      <td>-4.476725</td>\n",
       "      <td>0.0</td>\n",
       "    </tr>\n",
       "    <tr>\n",
       "      <th>27</th>\n",
       "      <td>550</td>\n",
       "      <td>0.017353</td>\n",
       "      <td>0.000348</td>\n",
       "      <td>1.916888e-07</td>\n",
       "      <td>0.471274</td>\n",
       "      <td>0.009496</td>\n",
       "      <td>1.276336</td>\n",
       "      <td>-4.307832</td>\n",
       "      <td>-4.307832</td>\n",
       "      <td>0.0</td>\n",
       "    </tr>\n",
       "    <tr>\n",
       "      <th>28</th>\n",
       "      <td>570</td>\n",
       "      <td>0.016270</td>\n",
       "      <td>0.000313</td>\n",
       "      <td>1.632331e-07</td>\n",
       "      <td>0.445942</td>\n",
       "      <td>0.009587</td>\n",
       "      <td>1.284357</td>\n",
       "      <td>-4.144748</td>\n",
       "      <td>-4.144748</td>\n",
       "      <td>0.0</td>\n",
       "    </tr>\n",
       "    <tr>\n",
       "      <th>29</th>\n",
       "      <td>590</td>\n",
       "      <td>0.014216</td>\n",
       "      <td>0.000240</td>\n",
       "      <td>9.742476e-08</td>\n",
       "      <td>0.433899</td>\n",
       "      <td>0.007119</td>\n",
       "      <td>1.204895</td>\n",
       "      <td>-3.988049</td>\n",
       "      <td>-3.988049</td>\n",
       "      <td>0.0</td>\n",
       "    </tr>\n",
       "    <tr>\n",
       "      <th>30</th>\n",
       "      <td>610</td>\n",
       "      <td>0.013135</td>\n",
       "      <td>0.000202</td>\n",
       "      <td>6.793222e-08</td>\n",
       "      <td>0.443662</td>\n",
       "      <td>0.005380</td>\n",
       "      <td>1.201226</td>\n",
       "      <td>-3.837768</td>\n",
       "      <td>-3.837768</td>\n",
       "      <td>0.0</td>\n",
       "    </tr>\n",
       "    <tr>\n",
       "      <th>31</th>\n",
       "      <td>630</td>\n",
       "      <td>0.012501</td>\n",
       "      <td>0.000184</td>\n",
       "      <td>5.572561e-08</td>\n",
       "      <td>0.448600</td>\n",
       "      <td>0.004860</td>\n",
       "      <td>1.106322</td>\n",
       "      <td>-3.693717</td>\n",
       "      <td>-3.693717</td>\n",
       "      <td>0.0</td>\n",
       "    </tr>\n",
       "    <tr>\n",
       "      <th>32</th>\n",
       "      <td>650</td>\n",
       "      <td>0.011656</td>\n",
       "      <td>0.000158</td>\n",
       "      <td>3.976272e-08</td>\n",
       "      <td>0.469781</td>\n",
       "      <td>0.003843</td>\n",
       "      <td>1.056440</td>\n",
       "      <td>-3.555941</td>\n",
       "      <td>-3.555941</td>\n",
       "      <td>0.0</td>\n",
       "    </tr>\n",
       "    <tr>\n",
       "      <th>33</th>\n",
       "      <td>670</td>\n",
       "      <td>0.010764</td>\n",
       "      <td>0.000137</td>\n",
       "      <td>3.117334e-08</td>\n",
       "      <td>0.444200</td>\n",
       "      <td>0.003497</td>\n",
       "      <td>0.921413</td>\n",
       "      <td>-3.424647</td>\n",
       "      <td>-3.424647</td>\n",
       "      <td>0.0</td>\n",
       "    </tr>\n",
       "    <tr>\n",
       "      <th>34</th>\n",
       "      <td>700</td>\n",
       "      <td>0.010185</td>\n",
       "      <td>0.000122</td>\n",
       "      <td>2.420891e-08</td>\n",
       "      <td>0.459690</td>\n",
       "      <td>0.002962</td>\n",
       "      <td>0.897839</td>\n",
       "      <td>-3.238837</td>\n",
       "      <td>-3.238837</td>\n",
       "      <td>0.0</td>\n",
       "    </tr>\n",
       "  </tbody>\n",
       "</table>\n",
       "</div>"
      ],
      "text/plain": [
       "    T[K]    M[muB]       M^2           M^4  U_Binder       chi  C_v(tot)  \\\n",
       "0     10  1.862562  3.469137  1.203492e+01  0.666667  0.002788  1.012398   \n",
       "1     30  1.813005  3.286990  1.080432e+01  0.666666  0.006225  0.908200   \n",
       "2     50  1.767635  3.124536  9.762764e+00  0.666665  0.006492  1.050185   \n",
       "3     70  1.720170  2.958986  8.755630e+00  0.666665  0.004282  1.057235   \n",
       "4     90  1.677340  2.813472  7.915658e+00  0.666665  0.003851  0.984763   \n",
       "5    110  1.629221  2.654371  7.045786e+00  0.666662  0.009731  0.958378   \n",
       "6    130  1.589929  2.527893  6.390419e+00  0.666657  0.015153  0.981410   \n",
       "7    150  1.542855  2.380417  5.666536e+00  0.666658  0.011878  1.066596   \n",
       "8    170  1.501660  2.255025  5.085513e+00  0.666642  0.027744  1.066178   \n",
       "9    190  1.457658  2.124792  4.514957e+00  0.666651  0.014929  1.031491   \n",
       "10   210  1.401748  1.964941  3.861344e+00  0.666636  0.023776  1.005126   \n",
       "11   230  1.355608  1.837727  3.377634e+00  0.666628  0.026037  1.126014   \n",
       "12   250  1.311323  1.719648  2.957726e+00  0.666606  0.035275  1.079129   \n",
       "13   270  1.269612  1.611975  2.598853e+00  0.666617  0.025000  1.030389   \n",
       "14   290  1.227944  1.507909  2.274163e+00  0.666612  0.024007  1.237107   \n",
       "15   310  1.175784  1.382536  1.911785e+00  0.666601  0.024843  1.271271   \n",
       "16   330  1.110446  1.233147  1.520933e+00  0.666605  0.019425  1.326243   \n",
       "17   350  1.038134  1.077918  1.162762e+00  0.666421  0.062973  1.326843   \n",
       "18   370  0.973428  0.947815  8.993125e-01  0.666311  0.076700  1.386128   \n",
       "19   390  0.892229  0.796393  6.352685e-01  0.666127  0.092468  1.459264   \n",
       "20   410  0.758801  0.576241  3.331270e-01  0.665589  0.126548  1.515132   \n",
       "21   430  0.441421  0.201737  4.525185e-02  0.629367  1.797451  2.199642   \n",
       "22   450  0.066922  0.005211  4.392268e-05  0.460845  0.182773  1.776033   \n",
       "23   470  0.045666  0.002420  9.184706e-06  0.477165  0.079897  1.446893   \n",
       "24   490  0.030157  0.001059  1.781157e-06  0.470736  0.034299  1.465567   \n",
       "25   510  0.023554  0.000653  7.030580e-07  0.450775  0.021668  1.459390   \n",
       "26   530  0.020840  0.000508  4.240274e-07  0.452880  0.015669  1.361857   \n",
       "27   550  0.017353  0.000348  1.916888e-07  0.471274  0.009496  1.276336   \n",
       "28   570  0.016270  0.000313  1.632331e-07  0.445942  0.009587  1.284357   \n",
       "29   590  0.014216  0.000240  9.742476e-08  0.433899  0.007119  1.204895   \n",
       "30   610  0.013135  0.000202  6.793222e-08  0.443662  0.005380  1.201226   \n",
       "31   630  0.012501  0.000184  5.572561e-08  0.448600  0.004860  1.106322   \n",
       "32   650  0.011656  0.000158  3.976272e-08  0.469781  0.003843  1.056440   \n",
       "33   670  0.010764  0.000137  3.117334e-08  0.444200  0.003497  0.921413   \n",
       "34   700  0.010185  0.000122  2.420891e-08  0.459690  0.002962  0.897839   \n",
       "\n",
       "           E     E_exc  E_lsf  \n",
       "0  -8.575637 -8.575637    0.0  \n",
       "1  -8.448294 -8.448294    0.0  \n",
       "2  -8.320102 -8.320102    0.0  \n",
       "3  -8.191044 -8.191044    0.0  \n",
       "4  -8.061073 -8.061073    0.0  \n",
       "5  -7.929904 -7.929904    0.0  \n",
       "6  -7.797645 -7.797645    0.0  \n",
       "7  -7.664030 -7.664030    0.0  \n",
       "8  -7.529041 -7.529041    0.0  \n",
       "9  -7.392399 -7.392399    0.0  \n",
       "10 -7.254073 -7.254073    0.0  \n",
       "11 -7.113923 -7.113923    0.0  \n",
       "12 -6.971442 -6.971442    0.0  \n",
       "13 -6.826641 -6.826641    0.0  \n",
       "14 -6.678970 -6.678970    0.0  \n",
       "15 -6.527707 -6.527707    0.0  \n",
       "16 -6.372555 -6.372555    0.0  \n",
       "17 -6.212122 -6.212122    0.0  \n",
       "18 -6.044742 -6.044742    0.0  \n",
       "19 -5.868230 -5.868230    0.0  \n",
       "20 -5.676377 -5.676377    0.0  \n",
       "21 -5.455014 -5.455014    0.0  \n",
       "22 -5.227447 -5.227447    0.0  \n",
       "23 -5.026112 -5.026112    0.0  \n",
       "24 -4.835336 -4.835336    0.0  \n",
       "25 -4.653239 -4.653239    0.0  \n",
       "26 -4.476725 -4.476725    0.0  \n",
       "27 -4.307832 -4.307832    0.0  \n",
       "28 -4.144748 -4.144748    0.0  \n",
       "29 -3.988049 -3.988049    0.0  \n",
       "30 -3.837768 -3.837768    0.0  \n",
       "31 -3.693717 -3.693717    0.0  \n",
       "32 -3.555941 -3.555941    0.0  \n",
       "33 -3.424647 -3.424647    0.0  \n",
       "34 -3.238837 -3.238837    0.0  "
      ]
     },
     "execution_count": 7,
     "metadata": {},
     "output_type": "execute_result"
    }
   ],
   "source": [
    "import pandas as pd\n",
    "\n",
    "df = pd.read_csv(\"../src/mammos_spindynamics/db/data/0003/M.csv\")\n",
    "df"
   ]
  },
  {
   "cell_type": "markdown",
   "metadata": {},
   "source": [
    "`M` is the linear interpolating function. We can recover the `x` values with:"
   ]
  },
  {
   "cell_type": "code",
   "execution_count": 8,
   "metadata": {},
   "outputs": [
    {
     "data": {
      "text/plain": [
       "array([  2,   5,  10,  50, 100, 150, 200, 250, 300, 400, 500, 600, 700])"
      ]
     },
     "execution_count": 8,
     "metadata": {},
     "output_type": "execute_result"
    }
   ],
   "source": [
    "M.x"
   ]
  },
  {
   "cell_type": "markdown",
   "metadata": {},
   "source": [
    "and the `y` values with:"
   ]
  },
  {
   "cell_type": "code",
   "execution_count": 9,
   "metadata": {},
   "outputs": [
    {
     "data": {
      "text/plain": [
       "array([0.00113 , 0.000749, 0.000373, 0.001017, 0.001091, 0.001307,\n",
       "       0.00152 , 0.001692, 0.001842, 0.002092, 0.002304, 0.002426,\n",
       "       0.0025  ])"
      ]
     },
     "execution_count": 9,
     "metadata": {},
     "output_type": "execute_result"
    }
   ],
   "source": [
    "M.y"
   ]
  },
  {
   "cell_type": "markdown",
   "metadata": {},
   "source": [
    "Then, we can evaluate it at any other point inside the interval defined by min(`x`) and max(`x`):"
   ]
  },
  {
   "cell_type": "code",
   "execution_count": 10,
   "metadata": {},
   "outputs": [
    {
     "data": {
      "text/plain": [
       "array(0.002198)"
      ]
     },
     "execution_count": 10,
     "metadata": {},
     "output_type": "execute_result"
    }
   ],
   "source": [
    "M(450)"
   ]
  },
  {
   "cell_type": "code",
   "execution_count": 11,
   "metadata": {},
   "outputs": [
    {
     "ename": "ValueError",
     "evalue": "A value (1.0) in x_new is below the interpolation range's minimum value (2).",
     "output_type": "error",
     "traceback": [
      "\u001b[31m---------------------------------------------------------------------------\u001b[39m",
      "\u001b[31mValueError\u001b[39m                                Traceback (most recent call last)",
      "\u001b[36mCell\u001b[39m\u001b[36m \u001b[39m\u001b[32mIn[11]\u001b[39m\u001b[32m, line 1\u001b[39m\n\u001b[32m----> \u001b[39m\u001b[32m1\u001b[39m \u001b[43mM\u001b[49m\u001b[43m(\u001b[49m\u001b[32;43m1\u001b[39;49m\u001b[43m)\u001b[49m  \u001b[38;5;66;03m# ValueError\u001b[39;00m\n",
      "\u001b[36mFile \u001b[39m\u001b[32m~/repos/mammos/mammos-spindynamics/.pixi/envs/example/lib/python3.13/site-packages/scipy/interpolate/_polyint.py:82\u001b[39m, in \u001b[36m_Interpolator1D.__call__\u001b[39m\u001b[34m(self, x)\u001b[39m\n\u001b[32m     61\u001b[39m \u001b[38;5;250m\u001b[39m\u001b[33;03m\"\"\"\u001b[39;00m\n\u001b[32m     62\u001b[39m \u001b[33;03mEvaluate the interpolant\u001b[39;00m\n\u001b[32m     63\u001b[39m \n\u001b[32m   (...)\u001b[39m\u001b[32m     79\u001b[39m \n\u001b[32m     80\u001b[39m \u001b[33;03m\"\"\"\u001b[39;00m\n\u001b[32m     81\u001b[39m x, x_shape = \u001b[38;5;28mself\u001b[39m._prepare_x(x)\n\u001b[32m---> \u001b[39m\u001b[32m82\u001b[39m y = \u001b[38;5;28;43mself\u001b[39;49m\u001b[43m.\u001b[49m\u001b[43m_evaluate\u001b[49m\u001b[43m(\u001b[49m\u001b[43mx\u001b[49m\u001b[43m)\u001b[49m\n\u001b[32m     83\u001b[39m \u001b[38;5;28;01mreturn\u001b[39;00m \u001b[38;5;28mself\u001b[39m._finish_y(y, x_shape)\n",
      "\u001b[36mFile \u001b[39m\u001b[32m~/repos/mammos/mammos-spindynamics/.pixi/envs/example/lib/python3.13/site-packages/scipy/interpolate/_interpolate.py:533\u001b[39m, in \u001b[36minterp1d._evaluate\u001b[39m\u001b[34m(self, x_new)\u001b[39m\n\u001b[32m    531\u001b[39m y_new = \u001b[38;5;28mself\u001b[39m._call(\u001b[38;5;28mself\u001b[39m, x_new)\n\u001b[32m    532\u001b[39m \u001b[38;5;28;01mif\u001b[39;00m \u001b[38;5;129;01mnot\u001b[39;00m \u001b[38;5;28mself\u001b[39m._extrapolate:\n\u001b[32m--> \u001b[39m\u001b[32m533\u001b[39m     below_bounds, above_bounds = \u001b[38;5;28;43mself\u001b[39;49m\u001b[43m.\u001b[49m\u001b[43m_check_bounds\u001b[49m\u001b[43m(\u001b[49m\u001b[43mx_new\u001b[49m\u001b[43m)\u001b[49m\n\u001b[32m    534\u001b[39m     \u001b[38;5;28;01mif\u001b[39;00m \u001b[38;5;28mlen\u001b[39m(y_new) > \u001b[32m0\u001b[39m:\n\u001b[32m    535\u001b[39m         \u001b[38;5;66;03m# Note fill_value must be broadcast up to the proper size\u001b[39;00m\n\u001b[32m    536\u001b[39m         \u001b[38;5;66;03m# and flattened to work here\u001b[39;00m\n\u001b[32m    537\u001b[39m         y_new[below_bounds] = \u001b[38;5;28mself\u001b[39m._fill_value_below\n",
      "\u001b[36mFile \u001b[39m\u001b[32m~/repos/mammos/mammos-spindynamics/.pixi/envs/example/lib/python3.13/site-packages/scipy/interpolate/_interpolate.py:562\u001b[39m, in \u001b[36minterp1d._check_bounds\u001b[39m\u001b[34m(self, x_new)\u001b[39m\n\u001b[32m    560\u001b[39m \u001b[38;5;28;01mif\u001b[39;00m \u001b[38;5;28mself\u001b[39m.bounds_error \u001b[38;5;129;01mand\u001b[39;00m below_bounds.any():\n\u001b[32m    561\u001b[39m     below_bounds_value = x_new[np.argmax(below_bounds)]\n\u001b[32m--> \u001b[39m\u001b[32m562\u001b[39m     \u001b[38;5;28;01mraise\u001b[39;00m \u001b[38;5;167;01mValueError\u001b[39;00m(\u001b[33mf\u001b[39m\u001b[33m\"\u001b[39m\u001b[33mA value (\u001b[39m\u001b[38;5;132;01m{\u001b[39;00mbelow_bounds_value\u001b[38;5;132;01m}\u001b[39;00m\u001b[33m) in x_new is below \u001b[39m\u001b[33m\"\u001b[39m\n\u001b[32m    563\u001b[39m                      \u001b[33mf\u001b[39m\u001b[33m\"\u001b[39m\u001b[33mthe interpolation range\u001b[39m\u001b[33m'\u001b[39m\u001b[33ms minimum value (\u001b[39m\u001b[38;5;132;01m{\u001b[39;00m\u001b[38;5;28mself\u001b[39m.x[\u001b[32m0\u001b[39m]\u001b[38;5;132;01m}\u001b[39;00m\u001b[33m).\u001b[39m\u001b[33m\"\u001b[39m)\n\u001b[32m    564\u001b[39m \u001b[38;5;28;01mif\u001b[39;00m \u001b[38;5;28mself\u001b[39m.bounds_error \u001b[38;5;129;01mand\u001b[39;00m above_bounds.any():\n\u001b[32m    565\u001b[39m     above_bounds_value = x_new[np.argmax(above_bounds)]\n",
      "\u001b[31mValueError\u001b[39m: A value (1.0) in x_new is below the interpolation range's minimum value (2)."
     ]
    }
   ],
   "source": [
    "M(1)  # ValueError"
   ]
  },
  {
   "cell_type": "code",
   "execution_count": 12,
   "metadata": {},
   "outputs": [
    {
     "data": {
      "text/plain": [
       "[<matplotlib.lines.Line2D at 0x7248cb9a1950>]"
      ]
     },
     "execution_count": 12,
     "metadata": {},
     "output_type": "execute_result"
    },
    {
     "data": {
      "image/png": "[encoded data removed]",
      "text/plain": [
       "<Figure size 640x480 with 1 Axes>"
      ]
     },
     "metadata": {},
     "output_type": "display_data"
    }
   ],
   "source": [
    "import matplotlib.pyplot as plt\n",
    "import numpy as np\n",
    "\n",
    "xx = np.arange(min(M.x), max(M.x), 1)\n",
    "yy = M(xx)\n",
    "\n",
    "plt.plot(xx, yy)\n",
    "plt.plot(M.x, M.y, \"o\", color=\"red\", markersize=2)"
   ]
  },
  {
   "cell_type": "markdown",
   "metadata": {},
   "source": [
    "## What if we used quadratic interpolation?\n",
    "We can specify the interpolation type in the function `get_M`.\n",
    "The valid options are defined in the [`interp1d` documentation](https://docs.scipy.org/doc/scipy/reference/generated/scipy.interpolate.interp1d.html#scipy.interpolate.interp1d)"
   ]
  },
  {
   "cell_type": "code",
   "execution_count": 13,
   "metadata": {},
   "outputs": [
    {
     "data": {
      "text/html": [
       "<pre style=\"white-space:pre;overflow-x:auto;line-height:normal;font-family:Menlo,'DejaVu Sans Mono',consolas,'Courier New',monospace\">Found material in database.\n",
       "</pre>\n"
      ],
      "text/plain": [
       "Found material in database.\n"
      ]
     },
     "metadata": {},
     "output_type": "display_data"
    },
    {
     "data": {
      "text/html": [
       "<pre style=\"white-space:pre;overflow-x:auto;line-height:normal;font-family:Menlo,'DejaVu Sans Mono',consolas,'Courier New',monospace\">\n",
       "Chemical Formula: CrNiP\n",
       "Space group name: P-62m\n",
       "Space group number: <span style=\"color: #008080; text-decoration-color: #008080; font-weight: bold\">189</span>\n",
       "Cell length a: <span style=\"color: #008080; text-decoration-color: #008080; font-weight: bold\">5.84</span>\n",
       "Cell length b: <span style=\"color: #008080; text-decoration-color: #008080; font-weight: bold\">5.84</span>\n",
       "Cell length c: <span style=\"color: #008080; text-decoration-color: #008080; font-weight: bold\">3.514</span>\n",
       "Cell angle alpha: <span style=\"color: #008080; text-decoration-color: #008080; font-weight: bold\">90.0</span>\n",
       "Cell angle beta: <span style=\"color: #008080; text-decoration-color: #008080; font-weight: bold\">90.0</span>\n",
       "Cell angle gamma: <span style=\"color: #008080; text-decoration-color: #008080; font-weight: bold\">120.0</span>\n",
       "Cell volume: <span style=\"color: #008080; text-decoration-color: #008080; font-weight: bold\">103.79</span>\n",
       "ICSD_label: <span style=\"color: #008080; text-decoration-color: #008080; font-weight: bold\">600596</span>\n",
       "OQMD_label: icsd-<span style=\"color: #008080; text-decoration-color: #008080; font-weight: bold\">600596</span>\n",
       "\n",
       "</pre>\n"
      ],
      "text/plain": [
       "\n",
       "Chemical Formula: CrNiP\n",
       "Space group name: P-62m\n",
       "Space group number: \u001b[1;36m189\u001b[0m\n",
       "Cell length a: \u001b[1;36m5.84\u001b[0m\n",
       "Cell length b: \u001b[1;36m5.84\u001b[0m\n",
       "Cell length c: \u001b[1;36m3.514\u001b[0m\n",
       "Cell angle alpha: \u001b[1;36m90.0\u001b[0m\n",
       "Cell angle beta: \u001b[1;36m90.0\u001b[0m\n",
       "Cell angle gamma: \u001b[1;36m120.0\u001b[0m\n",
       "Cell volume: \u001b[1;36m103.79\u001b[0m\n",
       "ICSD_label: \u001b[1;36m600596\u001b[0m\n",
       "OQMD_label: icsd-\u001b[1;36m600596\u001b[0m\n",
       "\n"
      ]
     },
     "metadata": {},
     "output_type": "display_data"
    },
    {
     "data": {
      "text/plain": [
       "[<matplotlib.lines.Line2D at 0x7248c97747d0>]"
      ]
     },
     "execution_count": 13,
     "metadata": {},
     "output_type": "execute_result"
    },
    {
     "data": {
      "image/png": "[encoded data removed]",
      "text/plain": [
       "<Figure size 640x480 with 1 Axes>"
      ]
     },
     "metadata": {},
     "output_type": "display_data"
    }
   ],
   "source": [
    "M2 = get_M(formula=\"CrNiP\", interpolation_kind=\"quadratic\")\n",
    "\n",
    "yy2 = M2(xx)\n",
    "plt.plot(xx, yy2)\n",
    "plt.plot(M2.x, M2.y, \"o\", color=\"red\", markersize=2)"
   ]
  }
 ],
 "metadata": {
  "kernelspec": {
   "display_name": "example",
   "language": "python",
   "name": "python3"
  },
  "language_info": {
   "codemirror_mode": {
    "name": "ipython",
    "version": 3
   },
   "file_extension": ".py",
   "mimetype": "text/x-python",
   "name": "python",
   "nbconvert_exporter": "python",
   "pygments_lexer": "ipython3",
   "version": "3.13.2"
  }
 },
 "nbformat": 4,
 "nbformat_minor": 4
}
