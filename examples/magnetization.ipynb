{
 "cells": [
  {
   "cell_type": "markdown",
   "metadata": {},
   "source": [
    "# Extract magnetization"
   ]
  },
  {
   "cell_type": "code",
   "execution_count": 1,
   "metadata": {},
   "outputs": [],
   "source": [
    "from mammos_spindynamics.db import get_M"
   ]
  },
  {
   "cell_type": "markdown",
   "metadata": {},
   "source": [
    "For the moment we only have one material: `CrNiP`. This is present in the database OQMD with label icsd-600596.\n",
    "\n",
    "So two possible retrieval methods are:\n",
    "- Loading the material with formula `CrNiP` without specifying any `structure` or `spacegroup` (since it is the only one available).\n",
    "- Querying the OQMD label directly."
   ]
  },
  {
   "cell_type": "code",
   "execution_count": 2,
   "metadata": {},
   "outputs": [
    {
     "name": "stdout",
     "output_type": "stream",
     "text": [
      "Loaded material.\n",
      "Chemical Formula: CrNiP\n",
      "Structure: 92390\n",
      "Spacegroup: P-62m\n",
      "OQMD_label: icsd-600596\n"
     ]
    }
   ],
   "source": [
    "M = get_M(formula=\"CrNiP\")"
   ]
  },
  {
   "cell_type": "code",
   "execution_count": 3,
   "metadata": {},
   "outputs": [
    {
     "name": "stdout",
     "output_type": "stream",
     "text": [
      "Loaded material.\n",
      "Chemical Formula: CrNiP\n",
      "Structure: 92390\n",
      "Spacegroup: P-62m\n",
      "OQMD_label: icsd-600596\n"
     ]
    }
   ],
   "source": [
    "M = get_M(OQMD_label=\"icsd-600596\")"
   ]
  },
  {
   "cell_type": "markdown",
   "metadata": {},
   "source": [
    "## What if we try to load a material with wrong structure?"
   ]
  },
  {
   "cell_type": "code",
   "execution_count": 4,
   "metadata": {},
   "outputs": [
    {
     "ename": "LookupError",
     "evalue": "Requested material not found in database.",
     "output_type": "error",
     "traceback": [
      "\u001b[31m---------------------------------------------------------------------------\u001b[39m",
      "\u001b[31mLookupError\u001b[39m                               Traceback (most recent call last)",
      "\u001b[36mCell\u001b[39m\u001b[36m \u001b[39m\u001b[32mIn[4]\u001b[39m\u001b[32m, line 1\u001b[39m\n\u001b[32m----> \u001b[39m\u001b[32m1\u001b[39m \u001b[43mget_M\u001b[49m\u001b[43m(\u001b[49m\u001b[43mformula\u001b[49m\u001b[43m=\u001b[49m\u001b[33;43m\"\u001b[39;49m\u001b[33;43mCrNiP\u001b[39;49m\u001b[33;43m\"\u001b[39;49m\u001b[43m,\u001b[49m\u001b[43m \u001b[49m\u001b[43mstructure\u001b[49m\u001b[43m=\u001b[49m\u001b[33;43m\"\u001b[39;49m\u001b[33;43m12345\u001b[39;49m\u001b[33;43m\"\u001b[39;49m\u001b[43m)\u001b[49m  \u001b[38;5;66;03m# LookupError\u001b[39;00m\n",
      "\u001b[36mFile \u001b[39m\u001b[32m~/repo/mammos/mammos-spindynamics/src/mammos_spindynamics/db/tables.py:39\u001b[39m, in \u001b[36mget_M\u001b[39m\u001b[34m(formula, OQMD_label, structure, spacegroup)\u001b[39m\n\u001b[32m     37\u001b[39m num_results = \u001b[38;5;28mlen\u001b[39m(df_filtered)\n\u001b[32m     38\u001b[39m \u001b[38;5;28;01mif\u001b[39;00m num_results == \u001b[32m0\u001b[39m:\n\u001b[32m---> \u001b[39m\u001b[32m39\u001b[39m     \u001b[38;5;28;01mraise\u001b[39;00m \u001b[38;5;167;01mLookupError\u001b[39;00m(\u001b[33m\"\u001b[39m\u001b[33mRequested material not found in database.\u001b[39m\u001b[33m\"\u001b[39m)\n\u001b[32m     40\u001b[39m \u001b[38;5;28;01melif\u001b[39;00m num_results > \u001b[32m1\u001b[39m:\n\u001b[32m     41\u001b[39m     \u001b[38;5;28;01mraise\u001b[39;00m \u001b[38;5;167;01mLookupError\u001b[39;00m(\u001b[33m\"\u001b[39m\u001b[33mToo many results found with this formula.\u001b[39m\u001b[33m\"\u001b[39m)\n",
      "\u001b[31mLookupError\u001b[39m: Requested material not found in database."
     ]
    }
   ],
   "source": [
    "get_M(formula=\"CrNiP\", structure=\"12345\")  # LookupError"
   ]
  },
  {
   "cell_type": "markdown",
   "metadata": {},
   "source": [
    "## What is `M`?"
   ]
  },
  {
   "cell_type": "code",
   "execution_count": 5,
   "metadata": {},
   "outputs": [
    {
     "data": {
      "text/plain": [
       "scipy.interpolate._interpolate.interp1d"
      ]
     },
     "execution_count": 5,
     "metadata": {},
     "output_type": "execute_result"
    }
   ],
   "source": [
    "type(M)"
   ]
  },
  {
   "cell_type": "markdown",
   "metadata": {},
   "source": [
    "The table we have loaded looks like this:"
   ]
  },
  {
   "cell_type": "code",
   "execution_count": 6,
   "metadata": {},
   "outputs": [
    {
     "data": {
      "text/html": [
       "<div><style>\n",
       ".dataframe > thead > tr,\n",
       ".dataframe > tbody > tr {\n",
       "  text-align: right;\n",
       "  white-space: pre-wrap;\n",
       "}\n",
       "</style>\n",
       "<small>shape: (13, 5)</small><table border=\"1\" class=\"dataframe\"><thead><tr><th>Temp</th><th>Mavg</th><th>UBinder</th><th>Susc</th><th>Cv</th></tr><tr><td>i64</td><td>f64</td><td>f64</td><td>f64</td><td>f64</td></tr></thead><tbody><tr><td>2</td><td>0.00113</td><td>0.652283</td><td>0.000438</td><td>0.706795</td></tr><tr><td>5</td><td>0.000749</td><td>0.59551</td><td>0.000404</td><td>0.721321</td></tr><tr><td>10</td><td>0.000373</td><td>0.445532</td><td>0.000157</td><td>0.709296</td></tr><tr><td>50</td><td>0.001017</td><td>0.484349</td><td>0.000204</td><td>0.53705</td></tr><tr><td>100</td><td>0.001091</td><td>0.450856</td><td>0.00013</td><td>0.425501</td></tr><tr><td>150</td><td>0.001307</td><td>0.431014</td><td>0.000134</td><td>0.427016</td></tr><tr><td>200</td><td>0.00152</td><td>0.445906</td><td>0.000129</td><td>0.428251</td></tr><tr><td>250</td><td>0.001692</td><td>0.456053</td><td>0.000127</td><td>0.458719</td></tr><tr><td>300</td><td>0.001842</td><td>0.461996</td><td>0.00012</td><td>0.475327</td></tr><tr><td>400</td><td>0.002092</td><td>0.448233</td><td>0.000124</td><td>0.668924</td></tr><tr><td>500</td><td>0.002304</td><td>0.438074</td><td>0.000123</td><td>0.290293</td></tr><tr><td>600</td><td>0.002426</td><td>0.453426</td><td>0.000107</td><td>0.165133</td></tr><tr><td>700</td><td>0.0025</td><td>0.444707</td><td>0.000099</td><td>0.119127</td></tr></tbody></table></div>"
      ],
      "text/plain": [
       "shape: (13, 5)\n",
       "┌──────┬──────────┬──────────┬──────────┬──────────┐\n",
       "│ Temp ┆ Mavg     ┆ UBinder  ┆ Susc     ┆ Cv       │\n",
       "│ ---  ┆ ---      ┆ ---      ┆ ---      ┆ ---      │\n",
       "│ i64  ┆ f64      ┆ f64      ┆ f64      ┆ f64      │\n",
       "╞══════╪══════════╪══════════╪══════════╪══════════╡\n",
       "│ 2    ┆ 0.00113  ┆ 0.652283 ┆ 0.000438 ┆ 0.706795 │\n",
       "│ 5    ┆ 0.000749 ┆ 0.59551  ┆ 0.000404 ┆ 0.721321 │\n",
       "│ 10   ┆ 0.000373 ┆ 0.445532 ┆ 0.000157 ┆ 0.709296 │\n",
       "│ 50   ┆ 0.001017 ┆ 0.484349 ┆ 0.000204 ┆ 0.53705  │\n",
       "│ 100  ┆ 0.001091 ┆ 0.450856 ┆ 0.00013  ┆ 0.425501 │\n",
       "│ 150  ┆ 0.001307 ┆ 0.431014 ┆ 0.000134 ┆ 0.427016 │\n",
       "│ 200  ┆ 0.00152  ┆ 0.445906 ┆ 0.000129 ┆ 0.428251 │\n",
       "│ 250  ┆ 0.001692 ┆ 0.456053 ┆ 0.000127 ┆ 0.458719 │\n",
       "│ 300  ┆ 0.001842 ┆ 0.461996 ┆ 0.00012  ┆ 0.475327 │\n",
       "│ 400  ┆ 0.002092 ┆ 0.448233 ┆ 0.000124 ┆ 0.668924 │\n",
       "│ 500  ┆ 0.002304 ┆ 0.438074 ┆ 0.000123 ┆ 0.290293 │\n",
       "│ 600  ┆ 0.002426 ┆ 0.453426 ┆ 0.000107 ┆ 0.165133 │\n",
       "│ 700  ┆ 0.0025   ┆ 0.444707 ┆ 0.000099 ┆ 0.119127 │\n",
       "└──────┴──────────┴──────────┴──────────┴──────────┘"
      ]
     },
     "execution_count": 6,
     "metadata": {},
     "output_type": "execute_result"
    }
   ],
   "source": [
    "import polars as pl\n",
    "\n",
    "pl.Config.set_tbl_rows(-1)\n",
    "\n",
    "df = pl.read_csv(\"../src/mammos_spindynamics/db/0001.csv\")\n",
    "df"
   ]
  },
  {
   "cell_type": "markdown",
   "metadata": {},
   "source": [
    "`M` is the linear interpolating function. We can recover the `x` values with:"
   ]
  },
  {
   "cell_type": "code",
   "execution_count": 7,
   "metadata": {},
   "outputs": [
    {
     "data": {
      "text/plain": [
       "array([  2,   5,  10,  50, 100, 150, 200, 250, 300, 400, 500, 600, 700])"
      ]
     },
     "execution_count": 7,
     "metadata": {},
     "output_type": "execute_result"
    }
   ],
   "source": [
    "M.x"
   ]
  },
  {
   "cell_type": "markdown",
   "metadata": {},
   "source": [
    "and the `y` values with:"
   ]
  },
  {
   "cell_type": "code",
   "execution_count": 8,
   "metadata": {},
   "outputs": [
    {
     "data": {
      "text/plain": [
       "array([0.00113 , 0.000749, 0.000373, 0.001017, 0.001091, 0.001307,\n",
       "       0.00152 , 0.001692, 0.001842, 0.002092, 0.002304, 0.002426,\n",
       "       0.0025  ])"
      ]
     },
     "execution_count": 8,
     "metadata": {},
     "output_type": "execute_result"
    }
   ],
   "source": [
    "M.y"
   ]
  },
  {
   "cell_type": "markdown",
   "metadata": {},
   "source": [
    "Then, we can evaluate it at any other point inside the interval defined by min(`x`) and max(`x`):"
   ]
  },
  {
   "cell_type": "code",
   "execution_count": 9,
   "metadata": {},
   "outputs": [
    {
     "data": {
      "text/plain": [
       "array(0.002198)"
      ]
     },
     "execution_count": 9,
     "metadata": {},
     "output_type": "execute_result"
    }
   ],
   "source": [
    "M(450)"
   ]
  },
  {
   "cell_type": "code",
   "execution_count": 10,
   "metadata": {},
   "outputs": [
    {
     "ename": "ValueError",
     "evalue": "A value (1.0) in x_new is below the interpolation range's minimum value (2).",
     "output_type": "error",
     "traceback": [
      "\u001b[31m---------------------------------------------------------------------------\u001b[39m",
      "\u001b[31mValueError\u001b[39m                                Traceback (most recent call last)",
      "\u001b[36mCell\u001b[39m\u001b[36m \u001b[39m\u001b[32mIn[10]\u001b[39m\u001b[32m, line 1\u001b[39m\n\u001b[32m----> \u001b[39m\u001b[32m1\u001b[39m \u001b[43mM\u001b[49m\u001b[43m(\u001b[49m\u001b[32;43m1\u001b[39;49m\u001b[43m)\u001b[49m  \u001b[38;5;66;03m# ValueError\u001b[39;00m\n",
      "\u001b[36mFile \u001b[39m\u001b[32m~/repo/mammos/mammos-spindynamics/.pixi/envs/default/lib/python3.13/site-packages/scipy/interpolate/_polyint.py:82\u001b[39m, in \u001b[36m_Interpolator1D.__call__\u001b[39m\u001b[34m(self, x)\u001b[39m\n\u001b[32m     61\u001b[39m \u001b[38;5;250m\u001b[39m\u001b[33;03m\"\"\"\u001b[39;00m\n\u001b[32m     62\u001b[39m \u001b[33;03mEvaluate the interpolant\u001b[39;00m\n\u001b[32m     63\u001b[39m \n\u001b[32m   (...)\u001b[39m\u001b[32m     79\u001b[39m \n\u001b[32m     80\u001b[39m \u001b[33;03m\"\"\"\u001b[39;00m\n\u001b[32m     81\u001b[39m x, x_shape = \u001b[38;5;28mself\u001b[39m._prepare_x(x)\n\u001b[32m---> \u001b[39m\u001b[32m82\u001b[39m y = \u001b[38;5;28;43mself\u001b[39;49m\u001b[43m.\u001b[49m\u001b[43m_evaluate\u001b[49m\u001b[43m(\u001b[49m\u001b[43mx\u001b[49m\u001b[43m)\u001b[49m\n\u001b[32m     83\u001b[39m \u001b[38;5;28;01mreturn\u001b[39;00m \u001b[38;5;28mself\u001b[39m._finish_y(y, x_shape)\n",
      "\u001b[36mFile \u001b[39m\u001b[32m~/repo/mammos/mammos-spindynamics/.pixi/envs/default/lib/python3.13/site-packages/scipy/interpolate/_interpolate.py:533\u001b[39m, in \u001b[36minterp1d._evaluate\u001b[39m\u001b[34m(self, x_new)\u001b[39m\n\u001b[32m    531\u001b[39m y_new = \u001b[38;5;28mself\u001b[39m._call(\u001b[38;5;28mself\u001b[39m, x_new)\n\u001b[32m    532\u001b[39m \u001b[38;5;28;01mif\u001b[39;00m \u001b[38;5;129;01mnot\u001b[39;00m \u001b[38;5;28mself\u001b[39m._extrapolate:\n\u001b[32m--> \u001b[39m\u001b[32m533\u001b[39m     below_bounds, above_bounds = \u001b[38;5;28;43mself\u001b[39;49m\u001b[43m.\u001b[49m\u001b[43m_check_bounds\u001b[49m\u001b[43m(\u001b[49m\u001b[43mx_new\u001b[49m\u001b[43m)\u001b[49m\n\u001b[32m    534\u001b[39m     \u001b[38;5;28;01mif\u001b[39;00m \u001b[38;5;28mlen\u001b[39m(y_new) > \u001b[32m0\u001b[39m:\n\u001b[32m    535\u001b[39m         \u001b[38;5;66;03m# Note fill_value must be broadcast up to the proper size\u001b[39;00m\n\u001b[32m    536\u001b[39m         \u001b[38;5;66;03m# and flattened to work here\u001b[39;00m\n\u001b[32m    537\u001b[39m         y_new[below_bounds] = \u001b[38;5;28mself\u001b[39m._fill_value_below\n",
      "\u001b[36mFile \u001b[39m\u001b[32m~/repo/mammos/mammos-spindynamics/.pixi/envs/default/lib/python3.13/site-packages/scipy/interpolate/_interpolate.py:562\u001b[39m, in \u001b[36minterp1d._check_bounds\u001b[39m\u001b[34m(self, x_new)\u001b[39m\n\u001b[32m    560\u001b[39m \u001b[38;5;28;01mif\u001b[39;00m \u001b[38;5;28mself\u001b[39m.bounds_error \u001b[38;5;129;01mand\u001b[39;00m below_bounds.any():\n\u001b[32m    561\u001b[39m     below_bounds_value = x_new[np.argmax(below_bounds)]\n\u001b[32m--> \u001b[39m\u001b[32m562\u001b[39m     \u001b[38;5;28;01mraise\u001b[39;00m \u001b[38;5;167;01mValueError\u001b[39;00m(\u001b[33mf\u001b[39m\u001b[33m\"\u001b[39m\u001b[33mA value (\u001b[39m\u001b[38;5;132;01m{\u001b[39;00mbelow_bounds_value\u001b[38;5;132;01m}\u001b[39;00m\u001b[33m) in x_new is below \u001b[39m\u001b[33m\"\u001b[39m\n\u001b[32m    563\u001b[39m                      \u001b[33mf\u001b[39m\u001b[33m\"\u001b[39m\u001b[33mthe interpolation range\u001b[39m\u001b[33m'\u001b[39m\u001b[33ms minimum value (\u001b[39m\u001b[38;5;132;01m{\u001b[39;00m\u001b[38;5;28mself\u001b[39m.x[\u001b[32m0\u001b[39m]\u001b[38;5;132;01m}\u001b[39;00m\u001b[33m).\u001b[39m\u001b[33m\"\u001b[39m)\n\u001b[32m    564\u001b[39m \u001b[38;5;28;01mif\u001b[39;00m \u001b[38;5;28mself\u001b[39m.bounds_error \u001b[38;5;129;01mand\u001b[39;00m above_bounds.any():\n\u001b[32m    565\u001b[39m     above_bounds_value = x_new[np.argmax(above_bounds)]\n",
      "\u001b[31mValueError\u001b[39m: A value (1.0) in x_new is below the interpolation range's minimum value (2)."
     ]
    }
   ],
   "source": [
    "M(1)  # ValueError"
   ]
  },
  {
   "cell_type": "code",
   "execution_count": 11,
   "metadata": {},
   "outputs": [
    {
     "data": {
      "text/plain": [
       "[<matplotlib.lines.Line2D at 0x7f95641a0a50>]"
      ]
     },
     "execution_count": 11,
     "metadata": {},
     "output_type": "execute_result"
    },
    {
     "data": {
      "image/png": "[encoded data removed]",
      "text/plain": [
       "<Figure size 640x480 with 1 Axes>"
      ]
     },
     "metadata": {},
     "output_type": "display_data"
    }
   ],
   "source": [
    "import matplotlib.pyplot as plt\n",
    "import numpy as np\n",
    "\n",
    "xx = np.arange(2, 700, 1)\n",
    "yy = M(xx)\n",
    "\n",
    "plt.plot(xx, yy)\n",
    "plt.plot(M.x, M.y, \"o\", color=\"red\", markersize=5)"
   ]
  },
  {
   "cell_type": "markdown",
   "metadata": {},
   "source": [
    "## What if we used quadratic interpolation?"
   ]
  },
  {
   "cell_type": "code",
   "execution_count": 12,
   "metadata": {},
   "outputs": [
    {
     "data": {
      "text/plain": [
       "[<matplotlib.lines.Line2D at 0x7f955ff68e10>]"
      ]
     },
     "execution_count": 12,
     "metadata": {},
     "output_type": "execute_result"
    },
    {
     "data": {
      "image/png": "[encoded data removed]",
      "text/plain": [
       "<Figure size 640x480 with 1 Axes>"
      ]
     },
     "metadata": {},
     "output_type": "display_data"
    }
   ],
   "source": [
    "from scipy.interpolate import interp1d\n",
    "\n",
    "M2 = interp1d(df[\"Temp\"], df[\"Mavg\"], kind=\"quadratic\")\n",
    "\n",
    "yy2 = M2(xx)\n",
    "plt.plot(xx, yy2)\n",
    "plt.plot(M2.x, M2.y, \"o\", color=\"red\", markersize=5)"
   ]
  },
  {
   "cell_type": "code",
   "execution_count": null,
   "metadata": {},
   "outputs": [],
   "source": []
  }
 ],
 "metadata": {
  "kernelspec": {
   "display_name": "default",
   "language": "python",
   "name": "python3"
  },
  "language_info": {
   "codemirror_mode": {
    "name": "ipython",
    "version": 3
   },
   "file_extension": ".py",
   "mimetype": "text/x-python",
   "name": "python",
   "nbconvert_exporter": "python",
   "pygments_lexer": "ipython3",
   "version": "3.13.2"
  }
 },
 "nbformat": 4,
 "nbformat_minor": 2
}
